{
 "cells": [
  {
   "cell_type": "code",
   "execution_count": 1,
   "id": "7aedda25",
   "metadata": {},
   "outputs": [],
   "source": [
    "import pandas as pd\n",
    "import numpy as np\n",
    "import matplotlib.mlab as mlab\n",
    "import matplotlib.pyplot as plt\n",
    "import statsmodels.api as sm\n",
    "import seaborn as sns\n",
    "%matplotlib inline\n",
    "from sklearn.preprocessing import StandardScaler\n",
    "from sklearn.model_selection import train_test_split\n",
    "from sklearn.neighbors import KNeighborsClassifier\n",
    "from sklearn.metrics import classification_report, confusion_matrix\n",
    "from sklearn import linear_model\n",
    "from sklearn.metrics import accuracy_score\n",
    "from sklearn.linear_model import LogisticRegression\n",
    "from sklearn import metrics\n",
    "import scipy.stats as stats"
   ]
  },
  {
   "cell_type": "code",
   "execution_count": 2,
   "id": "037004bb",
   "metadata": {},
   "outputs": [],
   "source": [
    "allergy = pd.read_excel('C:/Users/kesle/OneDrive/Desktop/food-allergy-analysis-Zenodo-final.xlsx')"
   ]
  },
  {
   "cell_type": "markdown",
   "id": "8d2432bf",
   "metadata": {},
   "source": [
    "#Viewing RACEFACTOR value counts"
   ]
  },
  {
   "cell_type": "code",
   "execution_count": 3,
   "id": "df3e5df1",
   "metadata": {},
   "outputs": [
    {
     "data": {
      "text/plain": [
       "R0 - White                        183308\n",
       "R1 - Black                         97795\n",
       "R4 - Unknown                       40940\n",
       "R2 - Asian or Pacific Islander      9152\n",
       "R3 - Other                          2005\n",
       "Name: RACEFACTOR, dtype: int64"
      ]
     },
     "execution_count": 3,
     "metadata": {},
     "output_type": "execute_result"
    }
   ],
   "source": [
    "allergy['RACEFACTOR'].value_counts()"
   ]
  },
  {
   "cell_type": "markdown",
   "id": "b7d16a47",
   "metadata": {},
   "source": [
    "#Will use 0 for White, 1 for Black, 2 for Asian or Pacific Islander, 3 for Other, 4 for Unknown."
   ]
  },
  {
   "cell_type": "code",
   "execution_count": 4,
   "id": "89007bfb",
   "metadata": {},
   "outputs": [],
   "source": [
    "def RACEFACTOR_recode (series):\n",
    "    if series == \"R0 - White\":\n",
    "        return 0\n",
    "    if series == \"R1 - Black\":\n",
    "        return 1\n",
    "    if series == \"R2 - Asian or Pacific Islander\":\n",
    "        return 2\n",
    "    if series == \"R3 - Other\":\n",
    "        return 3\n",
    "    if series == \"R4 - Unknown\":\n",
    "        return 4"
   ]
  },
  {
   "cell_type": "code",
   "execution_count": 5,
   "id": "edee3cc1",
   "metadata": {},
   "outputs": [],
   "source": [
    "allergy['RACEFACTOR']=allergy['RACEFACTOR'].apply(RACEFACTOR_recode)"
   ]
  },
  {
   "cell_type": "code",
   "execution_count": 6,
   "id": "e626128e",
   "metadata": {},
   "outputs": [
    {
     "data": {
      "text/html": [
       "<div>\n",
       "<style scoped>\n",
       "    .dataframe tbody tr th:only-of-type {\n",
       "        vertical-align: middle;\n",
       "    }\n",
       "\n",
       "    .dataframe tbody tr th {\n",
       "        vertical-align: top;\n",
       "    }\n",
       "\n",
       "    .dataframe thead th {\n",
       "        text-align: right;\n",
       "    }\n",
       "</style>\n",
       "<table border=\"1\" class=\"dataframe\">\n",
       "  <thead>\n",
       "    <tr style=\"text-align: right;\">\n",
       "      <th></th>\n",
       "      <th>SUBJECTID</th>\n",
       "      <th>BIRTHYEAR</th>\n",
       "      <th>GENDERFACTOR</th>\n",
       "      <th>RACEFACTOR</th>\n",
       "      <th>ETHNICITYFACTOR</th>\n",
       "      <th>AGESTARTYEARS</th>\n",
       "      <th>SHELLFISHALGSTART</th>\n",
       "      <th>FISHALGSTART</th>\n",
       "      <th>MILKALGSTART</th>\n",
       "      <th>SOYALGSTART</th>\n",
       "      <th>EGGALGSTART</th>\n",
       "      <th>WHEATALGSTART</th>\n",
       "      <th>PEANUTALGSTART</th>\n",
       "      <th>SESAMEALGSTART</th>\n",
       "      <th>TREENUTALGSTART</th>\n",
       "      <th>ATOPICDERMSTART</th>\n",
       "      <th>ALLERGICRHINITISSTART</th>\n",
       "      <th>ASTHMASTART</th>\n",
       "      <th>FIRSTASTHMARX</th>\n",
       "      <th>NUMASTHMARX</th>\n",
       "    </tr>\n",
       "  </thead>\n",
       "  <tbody>\n",
       "    <tr>\n",
       "      <th>0</th>\n",
       "      <td>1</td>\n",
       "      <td>2006</td>\n",
       "      <td>S1 - Female</td>\n",
       "      <td>1</td>\n",
       "      <td>E0 - Non-Hispanic</td>\n",
       "      <td>0.093087</td>\n",
       "      <td>NaN</td>\n",
       "      <td>NaN</td>\n",
       "      <td>NaN</td>\n",
       "      <td>NaN</td>\n",
       "      <td>NaN</td>\n",
       "      <td>NaN</td>\n",
       "      <td>NaN</td>\n",
       "      <td>NaN</td>\n",
       "      <td>NaN</td>\n",
       "      <td>NaN</td>\n",
       "      <td>NaN</td>\n",
       "      <td>NaN</td>\n",
       "      <td>NaN</td>\n",
       "      <td>NaN</td>\n",
       "    </tr>\n",
       "    <tr>\n",
       "      <th>1</th>\n",
       "      <td>2</td>\n",
       "      <td>1994</td>\n",
       "      <td>S1 - Female</td>\n",
       "      <td>0</td>\n",
       "      <td>E0 - Non-Hispanic</td>\n",
       "      <td>12.232717</td>\n",
       "      <td>NaN</td>\n",
       "      <td>NaN</td>\n",
       "      <td>NaN</td>\n",
       "      <td>NaN</td>\n",
       "      <td>NaN</td>\n",
       "      <td>NaN</td>\n",
       "      <td>NaN</td>\n",
       "      <td>NaN</td>\n",
       "      <td>NaN</td>\n",
       "      <td>NaN</td>\n",
       "      <td>NaN</td>\n",
       "      <td>NaN</td>\n",
       "      <td>12.262834</td>\n",
       "      <td>2.0</td>\n",
       "    </tr>\n",
       "    <tr>\n",
       "      <th>2</th>\n",
       "      <td>3</td>\n",
       "      <td>2006</td>\n",
       "      <td>S0 - Male</td>\n",
       "      <td>0</td>\n",
       "      <td>E1 - Hispanic</td>\n",
       "      <td>0.010951</td>\n",
       "      <td>NaN</td>\n",
       "      <td>NaN</td>\n",
       "      <td>1.002053</td>\n",
       "      <td>NaN</td>\n",
       "      <td>NaN</td>\n",
       "      <td>NaN</td>\n",
       "      <td>NaN</td>\n",
       "      <td>NaN</td>\n",
       "      <td>NaN</td>\n",
       "      <td>4.884326</td>\n",
       "      <td>3.917864</td>\n",
       "      <td>5.127995</td>\n",
       "      <td>1.404517</td>\n",
       "      <td>4.0</td>\n",
       "    </tr>\n",
       "    <tr>\n",
       "      <th>3</th>\n",
       "      <td>4</td>\n",
       "      <td>2004</td>\n",
       "      <td>S0 - Male</td>\n",
       "      <td>4</td>\n",
       "      <td>E1 - Hispanic</td>\n",
       "      <td>2.398357</td>\n",
       "      <td>NaN</td>\n",
       "      <td>NaN</td>\n",
       "      <td>NaN</td>\n",
       "      <td>NaN</td>\n",
       "      <td>NaN</td>\n",
       "      <td>NaN</td>\n",
       "      <td>NaN</td>\n",
       "      <td>NaN</td>\n",
       "      <td>NaN</td>\n",
       "      <td>NaN</td>\n",
       "      <td>NaN</td>\n",
       "      <td>NaN</td>\n",
       "      <td>NaN</td>\n",
       "      <td>NaN</td>\n",
       "    </tr>\n",
       "    <tr>\n",
       "      <th>4</th>\n",
       "      <td>5</td>\n",
       "      <td>2006</td>\n",
       "      <td>S1 - Female</td>\n",
       "      <td>1</td>\n",
       "      <td>E0 - Non-Hispanic</td>\n",
       "      <td>0.013689</td>\n",
       "      <td>NaN</td>\n",
       "      <td>NaN</td>\n",
       "      <td>NaN</td>\n",
       "      <td>NaN</td>\n",
       "      <td>NaN</td>\n",
       "      <td>NaN</td>\n",
       "      <td>NaN</td>\n",
       "      <td>NaN</td>\n",
       "      <td>NaN</td>\n",
       "      <td>NaN</td>\n",
       "      <td>NaN</td>\n",
       "      <td>NaN</td>\n",
       "      <td>NaN</td>\n",
       "      <td>NaN</td>\n",
       "    </tr>\n",
       "  </tbody>\n",
       "</table>\n",
       "</div>"
      ],
      "text/plain": [
       "   SUBJECTID  BIRTHYEAR GENDERFACTOR  RACEFACTOR    ETHNICITYFACTOR  \\\n",
       "0          1       2006  S1 - Female           1  E0 - Non-Hispanic   \n",
       "1          2       1994  S1 - Female           0  E0 - Non-Hispanic   \n",
       "2          3       2006    S0 - Male           0      E1 - Hispanic   \n",
       "3          4       2004    S0 - Male           4      E1 - Hispanic   \n",
       "4          5       2006  S1 - Female           1  E0 - Non-Hispanic   \n",
       "\n",
       "   AGESTARTYEARS  SHELLFISHALGSTART  FISHALGSTART  MILKALGSTART  SOYALGSTART  \\\n",
       "0       0.093087                NaN           NaN           NaN          NaN   \n",
       "1      12.232717                NaN           NaN           NaN          NaN   \n",
       "2       0.010951                NaN           NaN      1.002053          NaN   \n",
       "3       2.398357                NaN           NaN           NaN          NaN   \n",
       "4       0.013689                NaN           NaN           NaN          NaN   \n",
       "\n",
       "   EGGALGSTART  WHEATALGSTART  PEANUTALGSTART  SESAMEALGSTART  \\\n",
       "0          NaN            NaN             NaN             NaN   \n",
       "1          NaN            NaN             NaN             NaN   \n",
       "2          NaN            NaN             NaN             NaN   \n",
       "3          NaN            NaN             NaN             NaN   \n",
       "4          NaN            NaN             NaN             NaN   \n",
       "\n",
       "   TREENUTALGSTART  ATOPICDERMSTART  ALLERGICRHINITISSTART  ASTHMASTART  \\\n",
       "0              NaN              NaN                    NaN          NaN   \n",
       "1              NaN              NaN                    NaN          NaN   \n",
       "2              NaN         4.884326               3.917864     5.127995   \n",
       "3              NaN              NaN                    NaN          NaN   \n",
       "4              NaN              NaN                    NaN          NaN   \n",
       "\n",
       "   FIRSTASTHMARX  NUMASTHMARX  \n",
       "0            NaN          NaN  \n",
       "1      12.262834          2.0  \n",
       "2       1.404517          4.0  \n",
       "3            NaN          NaN  \n",
       "4            NaN          NaN  "
      ]
     },
     "execution_count": 6,
     "metadata": {},
     "output_type": "execute_result"
    }
   ],
   "source": [
    "allergy.head()"
   ]
  },
  {
   "cell_type": "markdown",
   "id": "eb6ec18c",
   "metadata": {},
   "source": [
    "#Success. Now onto GENDERFACTOR"
   ]
  },
  {
   "cell_type": "code",
   "execution_count": 7,
   "id": "8759d77b",
   "metadata": {},
   "outputs": [
    {
     "data": {
      "text/plain": [
       "S0 - Male      169032\n",
       "S1 - Female    164168\n",
       "Name: GENDERFACTOR, dtype: int64"
      ]
     },
     "execution_count": 7,
     "metadata": {},
     "output_type": "execute_result"
    }
   ],
   "source": [
    "allergy['GENDERFACTOR'].value_counts()"
   ]
  },
  {
   "cell_type": "markdown",
   "id": "12ee71af",
   "metadata": {},
   "source": [
    "#Will use 0 for Male, 1 for Female."
   ]
  },
  {
   "cell_type": "code",
   "execution_count": 8,
   "id": "390dd9bb",
   "metadata": {},
   "outputs": [],
   "source": [
    "def GENDERFACTOR_recode (series):\n",
    "    if series == \"S0 - Male\":\n",
    "        return 0\n",
    "    if series == \"S1 - Female\":\n",
    "        return 1\n",
    "allergy['GENDERFACTOR']=allergy['GENDERFACTOR'].apply(GENDERFACTOR_recode)"
   ]
  },
  {
   "cell_type": "code",
   "execution_count": 9,
   "id": "19ea85cc",
   "metadata": {},
   "outputs": [
    {
     "data": {
      "text/html": [
       "<div>\n",
       "<style scoped>\n",
       "    .dataframe tbody tr th:only-of-type {\n",
       "        vertical-align: middle;\n",
       "    }\n",
       "\n",
       "    .dataframe tbody tr th {\n",
       "        vertical-align: top;\n",
       "    }\n",
       "\n",
       "    .dataframe thead th {\n",
       "        text-align: right;\n",
       "    }\n",
       "</style>\n",
       "<table border=\"1\" class=\"dataframe\">\n",
       "  <thead>\n",
       "    <tr style=\"text-align: right;\">\n",
       "      <th></th>\n",
       "      <th>SUBJECTID</th>\n",
       "      <th>BIRTHYEAR</th>\n",
       "      <th>GENDERFACTOR</th>\n",
       "      <th>RACEFACTOR</th>\n",
       "      <th>ETHNICITYFACTOR</th>\n",
       "      <th>AGESTARTYEARS</th>\n",
       "      <th>SHELLFISHALGSTART</th>\n",
       "      <th>FISHALGSTART</th>\n",
       "      <th>MILKALGSTART</th>\n",
       "      <th>SOYALGSTART</th>\n",
       "      <th>EGGALGSTART</th>\n",
       "      <th>WHEATALGSTART</th>\n",
       "      <th>PEANUTALGSTART</th>\n",
       "      <th>SESAMEALGSTART</th>\n",
       "      <th>TREENUTALGSTART</th>\n",
       "      <th>ATOPICDERMSTART</th>\n",
       "      <th>ALLERGICRHINITISSTART</th>\n",
       "      <th>ASTHMASTART</th>\n",
       "      <th>FIRSTASTHMARX</th>\n",
       "      <th>NUMASTHMARX</th>\n",
       "    </tr>\n",
       "  </thead>\n",
       "  <tbody>\n",
       "    <tr>\n",
       "      <th>0</th>\n",
       "      <td>1</td>\n",
       "      <td>2006</td>\n",
       "      <td>1</td>\n",
       "      <td>1</td>\n",
       "      <td>E0 - Non-Hispanic</td>\n",
       "      <td>0.093087</td>\n",
       "      <td>NaN</td>\n",
       "      <td>NaN</td>\n",
       "      <td>NaN</td>\n",
       "      <td>NaN</td>\n",
       "      <td>NaN</td>\n",
       "      <td>NaN</td>\n",
       "      <td>NaN</td>\n",
       "      <td>NaN</td>\n",
       "      <td>NaN</td>\n",
       "      <td>NaN</td>\n",
       "      <td>NaN</td>\n",
       "      <td>NaN</td>\n",
       "      <td>NaN</td>\n",
       "      <td>NaN</td>\n",
       "    </tr>\n",
       "    <tr>\n",
       "      <th>1</th>\n",
       "      <td>2</td>\n",
       "      <td>1994</td>\n",
       "      <td>1</td>\n",
       "      <td>0</td>\n",
       "      <td>E0 - Non-Hispanic</td>\n",
       "      <td>12.232717</td>\n",
       "      <td>NaN</td>\n",
       "      <td>NaN</td>\n",
       "      <td>NaN</td>\n",
       "      <td>NaN</td>\n",
       "      <td>NaN</td>\n",
       "      <td>NaN</td>\n",
       "      <td>NaN</td>\n",
       "      <td>NaN</td>\n",
       "      <td>NaN</td>\n",
       "      <td>NaN</td>\n",
       "      <td>NaN</td>\n",
       "      <td>NaN</td>\n",
       "      <td>12.262834</td>\n",
       "      <td>2.0</td>\n",
       "    </tr>\n",
       "    <tr>\n",
       "      <th>2</th>\n",
       "      <td>3</td>\n",
       "      <td>2006</td>\n",
       "      <td>0</td>\n",
       "      <td>0</td>\n",
       "      <td>E1 - Hispanic</td>\n",
       "      <td>0.010951</td>\n",
       "      <td>NaN</td>\n",
       "      <td>NaN</td>\n",
       "      <td>1.002053</td>\n",
       "      <td>NaN</td>\n",
       "      <td>NaN</td>\n",
       "      <td>NaN</td>\n",
       "      <td>NaN</td>\n",
       "      <td>NaN</td>\n",
       "      <td>NaN</td>\n",
       "      <td>4.884326</td>\n",
       "      <td>3.917864</td>\n",
       "      <td>5.127995</td>\n",
       "      <td>1.404517</td>\n",
       "      <td>4.0</td>\n",
       "    </tr>\n",
       "    <tr>\n",
       "      <th>3</th>\n",
       "      <td>4</td>\n",
       "      <td>2004</td>\n",
       "      <td>0</td>\n",
       "      <td>4</td>\n",
       "      <td>E1 - Hispanic</td>\n",
       "      <td>2.398357</td>\n",
       "      <td>NaN</td>\n",
       "      <td>NaN</td>\n",
       "      <td>NaN</td>\n",
       "      <td>NaN</td>\n",
       "      <td>NaN</td>\n",
       "      <td>NaN</td>\n",
       "      <td>NaN</td>\n",
       "      <td>NaN</td>\n",
       "      <td>NaN</td>\n",
       "      <td>NaN</td>\n",
       "      <td>NaN</td>\n",
       "      <td>NaN</td>\n",
       "      <td>NaN</td>\n",
       "      <td>NaN</td>\n",
       "    </tr>\n",
       "    <tr>\n",
       "      <th>4</th>\n",
       "      <td>5</td>\n",
       "      <td>2006</td>\n",
       "      <td>1</td>\n",
       "      <td>1</td>\n",
       "      <td>E0 - Non-Hispanic</td>\n",
       "      <td>0.013689</td>\n",
       "      <td>NaN</td>\n",
       "      <td>NaN</td>\n",
       "      <td>NaN</td>\n",
       "      <td>NaN</td>\n",
       "      <td>NaN</td>\n",
       "      <td>NaN</td>\n",
       "      <td>NaN</td>\n",
       "      <td>NaN</td>\n",
       "      <td>NaN</td>\n",
       "      <td>NaN</td>\n",
       "      <td>NaN</td>\n",
       "      <td>NaN</td>\n",
       "      <td>NaN</td>\n",
       "      <td>NaN</td>\n",
       "    </tr>\n",
       "  </tbody>\n",
       "</table>\n",
       "</div>"
      ],
      "text/plain": [
       "   SUBJECTID  BIRTHYEAR  GENDERFACTOR  RACEFACTOR    ETHNICITYFACTOR  \\\n",
       "0          1       2006             1           1  E0 - Non-Hispanic   \n",
       "1          2       1994             1           0  E0 - Non-Hispanic   \n",
       "2          3       2006             0           0      E1 - Hispanic   \n",
       "3          4       2004             0           4      E1 - Hispanic   \n",
       "4          5       2006             1           1  E0 - Non-Hispanic   \n",
       "\n",
       "   AGESTARTYEARS  SHELLFISHALGSTART  FISHALGSTART  MILKALGSTART  SOYALGSTART  \\\n",
       "0       0.093087                NaN           NaN           NaN          NaN   \n",
       "1      12.232717                NaN           NaN           NaN          NaN   \n",
       "2       0.010951                NaN           NaN      1.002053          NaN   \n",
       "3       2.398357                NaN           NaN           NaN          NaN   \n",
       "4       0.013689                NaN           NaN           NaN          NaN   \n",
       "\n",
       "   EGGALGSTART  WHEATALGSTART  PEANUTALGSTART  SESAMEALGSTART  \\\n",
       "0          NaN            NaN             NaN             NaN   \n",
       "1          NaN            NaN             NaN             NaN   \n",
       "2          NaN            NaN             NaN             NaN   \n",
       "3          NaN            NaN             NaN             NaN   \n",
       "4          NaN            NaN             NaN             NaN   \n",
       "\n",
       "   TREENUTALGSTART  ATOPICDERMSTART  ALLERGICRHINITISSTART  ASTHMASTART  \\\n",
       "0              NaN              NaN                    NaN          NaN   \n",
       "1              NaN              NaN                    NaN          NaN   \n",
       "2              NaN         4.884326               3.917864     5.127995   \n",
       "3              NaN              NaN                    NaN          NaN   \n",
       "4              NaN              NaN                    NaN          NaN   \n",
       "\n",
       "   FIRSTASTHMARX  NUMASTHMARX  \n",
       "0            NaN          NaN  \n",
       "1      12.262834          2.0  \n",
       "2       1.404517          4.0  \n",
       "3            NaN          NaN  \n",
       "4            NaN          NaN  "
      ]
     },
     "execution_count": 9,
     "metadata": {},
     "output_type": "execute_result"
    }
   ],
   "source": [
    "allergy.head()"
   ]
  },
  {
   "cell_type": "markdown",
   "id": "62840104",
   "metadata": {},
   "source": [
    "#Done. Now onto ETHNICITYFACTOR."
   ]
  },
  {
   "cell_type": "code",
   "execution_count": 10,
   "id": "f29bcf28",
   "metadata": {},
   "outputs": [
    {
     "data": {
      "text/plain": [
       "E0 - Non-Hispanic    317868\n",
       "E1 - Hispanic         15332\n",
       "Name: ETHNICITYFACTOR, dtype: int64"
      ]
     },
     "execution_count": 10,
     "metadata": {},
     "output_type": "execute_result"
    }
   ],
   "source": [
    "allergy['ETHNICITYFACTOR'].value_counts()"
   ]
  },
  {
   "cell_type": "markdown",
   "id": "119b57a4",
   "metadata": {},
   "source": [
    "#Will use 0 for Non-Hispanic, 1 for Hispanic."
   ]
  },
  {
   "cell_type": "code",
   "execution_count": 11,
   "id": "baa48eeb",
   "metadata": {},
   "outputs": [],
   "source": [
    "def ETHNICITYFACTOR_recode (series):\n",
    "    if series == \"E0 - Non-Hispanic\":\n",
    "        return 0\n",
    "    if series == \"E1 - Hispanic\":\n",
    "        return 1\n",
    "allergy['ETHNICITYFACTOR']=allergy['ETHNICITYFACTOR'].apply(ETHNICITYFACTOR_recode)"
   ]
  },
  {
   "cell_type": "code",
   "execution_count": 12,
   "id": "2ebc6dcd",
   "metadata": {},
   "outputs": [
    {
     "data": {
      "text/html": [
       "<div>\n",
       "<style scoped>\n",
       "    .dataframe tbody tr th:only-of-type {\n",
       "        vertical-align: middle;\n",
       "    }\n",
       "\n",
       "    .dataframe tbody tr th {\n",
       "        vertical-align: top;\n",
       "    }\n",
       "\n",
       "    .dataframe thead th {\n",
       "        text-align: right;\n",
       "    }\n",
       "</style>\n",
       "<table border=\"1\" class=\"dataframe\">\n",
       "  <thead>\n",
       "    <tr style=\"text-align: right;\">\n",
       "      <th></th>\n",
       "      <th>SUBJECTID</th>\n",
       "      <th>BIRTHYEAR</th>\n",
       "      <th>GENDERFACTOR</th>\n",
       "      <th>RACEFACTOR</th>\n",
       "      <th>ETHNICITYFACTOR</th>\n",
       "      <th>AGESTARTYEARS</th>\n",
       "      <th>SHELLFISHALGSTART</th>\n",
       "      <th>FISHALGSTART</th>\n",
       "      <th>MILKALGSTART</th>\n",
       "      <th>SOYALGSTART</th>\n",
       "      <th>EGGALGSTART</th>\n",
       "      <th>WHEATALGSTART</th>\n",
       "      <th>PEANUTALGSTART</th>\n",
       "      <th>SESAMEALGSTART</th>\n",
       "      <th>TREENUTALGSTART</th>\n",
       "      <th>ATOPICDERMSTART</th>\n",
       "      <th>ALLERGICRHINITISSTART</th>\n",
       "      <th>ASTHMASTART</th>\n",
       "      <th>FIRSTASTHMARX</th>\n",
       "      <th>NUMASTHMARX</th>\n",
       "    </tr>\n",
       "  </thead>\n",
       "  <tbody>\n",
       "    <tr>\n",
       "      <th>0</th>\n",
       "      <td>1</td>\n",
       "      <td>2006</td>\n",
       "      <td>1</td>\n",
       "      <td>1</td>\n",
       "      <td>0</td>\n",
       "      <td>0.093087</td>\n",
       "      <td>NaN</td>\n",
       "      <td>NaN</td>\n",
       "      <td>NaN</td>\n",
       "      <td>NaN</td>\n",
       "      <td>NaN</td>\n",
       "      <td>NaN</td>\n",
       "      <td>NaN</td>\n",
       "      <td>NaN</td>\n",
       "      <td>NaN</td>\n",
       "      <td>NaN</td>\n",
       "      <td>NaN</td>\n",
       "      <td>NaN</td>\n",
       "      <td>NaN</td>\n",
       "      <td>NaN</td>\n",
       "    </tr>\n",
       "    <tr>\n",
       "      <th>1</th>\n",
       "      <td>2</td>\n",
       "      <td>1994</td>\n",
       "      <td>1</td>\n",
       "      <td>0</td>\n",
       "      <td>0</td>\n",
       "      <td>12.232717</td>\n",
       "      <td>NaN</td>\n",
       "      <td>NaN</td>\n",
       "      <td>NaN</td>\n",
       "      <td>NaN</td>\n",
       "      <td>NaN</td>\n",
       "      <td>NaN</td>\n",
       "      <td>NaN</td>\n",
       "      <td>NaN</td>\n",
       "      <td>NaN</td>\n",
       "      <td>NaN</td>\n",
       "      <td>NaN</td>\n",
       "      <td>NaN</td>\n",
       "      <td>12.262834</td>\n",
       "      <td>2.0</td>\n",
       "    </tr>\n",
       "    <tr>\n",
       "      <th>2</th>\n",
       "      <td>3</td>\n",
       "      <td>2006</td>\n",
       "      <td>0</td>\n",
       "      <td>0</td>\n",
       "      <td>1</td>\n",
       "      <td>0.010951</td>\n",
       "      <td>NaN</td>\n",
       "      <td>NaN</td>\n",
       "      <td>1.002053</td>\n",
       "      <td>NaN</td>\n",
       "      <td>NaN</td>\n",
       "      <td>NaN</td>\n",
       "      <td>NaN</td>\n",
       "      <td>NaN</td>\n",
       "      <td>NaN</td>\n",
       "      <td>4.884326</td>\n",
       "      <td>3.917864</td>\n",
       "      <td>5.127995</td>\n",
       "      <td>1.404517</td>\n",
       "      <td>4.0</td>\n",
       "    </tr>\n",
       "    <tr>\n",
       "      <th>3</th>\n",
       "      <td>4</td>\n",
       "      <td>2004</td>\n",
       "      <td>0</td>\n",
       "      <td>4</td>\n",
       "      <td>1</td>\n",
       "      <td>2.398357</td>\n",
       "      <td>NaN</td>\n",
       "      <td>NaN</td>\n",
       "      <td>NaN</td>\n",
       "      <td>NaN</td>\n",
       "      <td>NaN</td>\n",
       "      <td>NaN</td>\n",
       "      <td>NaN</td>\n",
       "      <td>NaN</td>\n",
       "      <td>NaN</td>\n",
       "      <td>NaN</td>\n",
       "      <td>NaN</td>\n",
       "      <td>NaN</td>\n",
       "      <td>NaN</td>\n",
       "      <td>NaN</td>\n",
       "    </tr>\n",
       "    <tr>\n",
       "      <th>4</th>\n",
       "      <td>5</td>\n",
       "      <td>2006</td>\n",
       "      <td>1</td>\n",
       "      <td>1</td>\n",
       "      <td>0</td>\n",
       "      <td>0.013689</td>\n",
       "      <td>NaN</td>\n",
       "      <td>NaN</td>\n",
       "      <td>NaN</td>\n",
       "      <td>NaN</td>\n",
       "      <td>NaN</td>\n",
       "      <td>NaN</td>\n",
       "      <td>NaN</td>\n",
       "      <td>NaN</td>\n",
       "      <td>NaN</td>\n",
       "      <td>NaN</td>\n",
       "      <td>NaN</td>\n",
       "      <td>NaN</td>\n",
       "      <td>NaN</td>\n",
       "      <td>NaN</td>\n",
       "    </tr>\n",
       "  </tbody>\n",
       "</table>\n",
       "</div>"
      ],
      "text/plain": [
       "   SUBJECTID  BIRTHYEAR  GENDERFACTOR  RACEFACTOR  ETHNICITYFACTOR  \\\n",
       "0          1       2006             1           1                0   \n",
       "1          2       1994             1           0                0   \n",
       "2          3       2006             0           0                1   \n",
       "3          4       2004             0           4                1   \n",
       "4          5       2006             1           1                0   \n",
       "\n",
       "   AGESTARTYEARS  SHELLFISHALGSTART  FISHALGSTART  MILKALGSTART  SOYALGSTART  \\\n",
       "0       0.093087                NaN           NaN           NaN          NaN   \n",
       "1      12.232717                NaN           NaN           NaN          NaN   \n",
       "2       0.010951                NaN           NaN      1.002053          NaN   \n",
       "3       2.398357                NaN           NaN           NaN          NaN   \n",
       "4       0.013689                NaN           NaN           NaN          NaN   \n",
       "\n",
       "   EGGALGSTART  WHEATALGSTART  PEANUTALGSTART  SESAMEALGSTART  \\\n",
       "0          NaN            NaN             NaN             NaN   \n",
       "1          NaN            NaN             NaN             NaN   \n",
       "2          NaN            NaN             NaN             NaN   \n",
       "3          NaN            NaN             NaN             NaN   \n",
       "4          NaN            NaN             NaN             NaN   \n",
       "\n",
       "   TREENUTALGSTART  ATOPICDERMSTART  ALLERGICRHINITISSTART  ASTHMASTART  \\\n",
       "0              NaN              NaN                    NaN          NaN   \n",
       "1              NaN              NaN                    NaN          NaN   \n",
       "2              NaN         4.884326               3.917864     5.127995   \n",
       "3              NaN              NaN                    NaN          NaN   \n",
       "4              NaN              NaN                    NaN          NaN   \n",
       "\n",
       "   FIRSTASTHMARX  NUMASTHMARX  \n",
       "0            NaN          NaN  \n",
       "1      12.262834          2.0  \n",
       "2       1.404517          4.0  \n",
       "3            NaN          NaN  \n",
       "4            NaN          NaN  "
      ]
     },
     "execution_count": 12,
     "metadata": {},
     "output_type": "execute_result"
    }
   ],
   "source": [
    "allergy.head()"
   ]
  },
  {
   "cell_type": "markdown",
   "id": "15db107c",
   "metadata": {},
   "source": [
    "#Filling NA with 0"
   ]
  },
  {
   "cell_type": "code",
   "execution_count": 13,
   "id": "57eb7338",
   "metadata": {},
   "outputs": [
    {
     "data": {
      "text/html": [
       "<div>\n",
       "<style scoped>\n",
       "    .dataframe tbody tr th:only-of-type {\n",
       "        vertical-align: middle;\n",
       "    }\n",
       "\n",
       "    .dataframe tbody tr th {\n",
       "        vertical-align: top;\n",
       "    }\n",
       "\n",
       "    .dataframe thead th {\n",
       "        text-align: right;\n",
       "    }\n",
       "</style>\n",
       "<table border=\"1\" class=\"dataframe\">\n",
       "  <thead>\n",
       "    <tr style=\"text-align: right;\">\n",
       "      <th></th>\n",
       "      <th>SUBJECTID</th>\n",
       "      <th>BIRTHYEAR</th>\n",
       "      <th>GENDERFACTOR</th>\n",
       "      <th>RACEFACTOR</th>\n",
       "      <th>ETHNICITYFACTOR</th>\n",
       "      <th>AGESTARTYEARS</th>\n",
       "      <th>SHELLFISHALGSTART</th>\n",
       "      <th>FISHALGSTART</th>\n",
       "      <th>MILKALGSTART</th>\n",
       "      <th>SOYALGSTART</th>\n",
       "      <th>EGGALGSTART</th>\n",
       "      <th>WHEATALGSTART</th>\n",
       "      <th>PEANUTALGSTART</th>\n",
       "      <th>SESAMEALGSTART</th>\n",
       "      <th>TREENUTALGSTART</th>\n",
       "      <th>ATOPICDERMSTART</th>\n",
       "      <th>ALLERGICRHINITISSTART</th>\n",
       "      <th>ASTHMASTART</th>\n",
       "      <th>FIRSTASTHMARX</th>\n",
       "      <th>NUMASTHMARX</th>\n",
       "    </tr>\n",
       "  </thead>\n",
       "  <tbody>\n",
       "    <tr>\n",
       "      <th>0</th>\n",
       "      <td>1</td>\n",
       "      <td>2006</td>\n",
       "      <td>1</td>\n",
       "      <td>1</td>\n",
       "      <td>0</td>\n",
       "      <td>0.093087</td>\n",
       "      <td>0.0</td>\n",
       "      <td>0.0</td>\n",
       "      <td>0.000000</td>\n",
       "      <td>0.0</td>\n",
       "      <td>0.0</td>\n",
       "      <td>0.0</td>\n",
       "      <td>0.0</td>\n",
       "      <td>0.0</td>\n",
       "      <td>0.0</td>\n",
       "      <td>0.000000</td>\n",
       "      <td>0.000000</td>\n",
       "      <td>0.000000</td>\n",
       "      <td>0.000000</td>\n",
       "      <td>0.0</td>\n",
       "    </tr>\n",
       "    <tr>\n",
       "      <th>1</th>\n",
       "      <td>2</td>\n",
       "      <td>1994</td>\n",
       "      <td>1</td>\n",
       "      <td>0</td>\n",
       "      <td>0</td>\n",
       "      <td>12.232717</td>\n",
       "      <td>0.0</td>\n",
       "      <td>0.0</td>\n",
       "      <td>0.000000</td>\n",
       "      <td>0.0</td>\n",
       "      <td>0.0</td>\n",
       "      <td>0.0</td>\n",
       "      <td>0.0</td>\n",
       "      <td>0.0</td>\n",
       "      <td>0.0</td>\n",
       "      <td>0.000000</td>\n",
       "      <td>0.000000</td>\n",
       "      <td>0.000000</td>\n",
       "      <td>12.262834</td>\n",
       "      <td>2.0</td>\n",
       "    </tr>\n",
       "    <tr>\n",
       "      <th>2</th>\n",
       "      <td>3</td>\n",
       "      <td>2006</td>\n",
       "      <td>0</td>\n",
       "      <td>0</td>\n",
       "      <td>1</td>\n",
       "      <td>0.010951</td>\n",
       "      <td>0.0</td>\n",
       "      <td>0.0</td>\n",
       "      <td>1.002053</td>\n",
       "      <td>0.0</td>\n",
       "      <td>0.0</td>\n",
       "      <td>0.0</td>\n",
       "      <td>0.0</td>\n",
       "      <td>0.0</td>\n",
       "      <td>0.0</td>\n",
       "      <td>4.884326</td>\n",
       "      <td>3.917864</td>\n",
       "      <td>5.127995</td>\n",
       "      <td>1.404517</td>\n",
       "      <td>4.0</td>\n",
       "    </tr>\n",
       "    <tr>\n",
       "      <th>3</th>\n",
       "      <td>4</td>\n",
       "      <td>2004</td>\n",
       "      <td>0</td>\n",
       "      <td>4</td>\n",
       "      <td>1</td>\n",
       "      <td>2.398357</td>\n",
       "      <td>0.0</td>\n",
       "      <td>0.0</td>\n",
       "      <td>0.000000</td>\n",
       "      <td>0.0</td>\n",
       "      <td>0.0</td>\n",
       "      <td>0.0</td>\n",
       "      <td>0.0</td>\n",
       "      <td>0.0</td>\n",
       "      <td>0.0</td>\n",
       "      <td>0.000000</td>\n",
       "      <td>0.000000</td>\n",
       "      <td>0.000000</td>\n",
       "      <td>0.000000</td>\n",
       "      <td>0.0</td>\n",
       "    </tr>\n",
       "    <tr>\n",
       "      <th>4</th>\n",
       "      <td>5</td>\n",
       "      <td>2006</td>\n",
       "      <td>1</td>\n",
       "      <td>1</td>\n",
       "      <td>0</td>\n",
       "      <td>0.013689</td>\n",
       "      <td>0.0</td>\n",
       "      <td>0.0</td>\n",
       "      <td>0.000000</td>\n",
       "      <td>0.0</td>\n",
       "      <td>0.0</td>\n",
       "      <td>0.0</td>\n",
       "      <td>0.0</td>\n",
       "      <td>0.0</td>\n",
       "      <td>0.0</td>\n",
       "      <td>0.000000</td>\n",
       "      <td>0.000000</td>\n",
       "      <td>0.000000</td>\n",
       "      <td>0.000000</td>\n",
       "      <td>0.0</td>\n",
       "    </tr>\n",
       "    <tr>\n",
       "      <th>...</th>\n",
       "      <td>...</td>\n",
       "      <td>...</td>\n",
       "      <td>...</td>\n",
       "      <td>...</td>\n",
       "      <td>...</td>\n",
       "      <td>...</td>\n",
       "      <td>...</td>\n",
       "      <td>...</td>\n",
       "      <td>...</td>\n",
       "      <td>...</td>\n",
       "      <td>...</td>\n",
       "      <td>...</td>\n",
       "      <td>...</td>\n",
       "      <td>...</td>\n",
       "      <td>...</td>\n",
       "      <td>...</td>\n",
       "      <td>...</td>\n",
       "      <td>...</td>\n",
       "      <td>...</td>\n",
       "      <td>...</td>\n",
       "    </tr>\n",
       "    <tr>\n",
       "      <th>333195</th>\n",
       "      <td>333196</td>\n",
       "      <td>2006</td>\n",
       "      <td>0</td>\n",
       "      <td>0</td>\n",
       "      <td>0</td>\n",
       "      <td>0.736482</td>\n",
       "      <td>0.0</td>\n",
       "      <td>0.0</td>\n",
       "      <td>0.000000</td>\n",
       "      <td>0.0</td>\n",
       "      <td>0.0</td>\n",
       "      <td>0.0</td>\n",
       "      <td>0.0</td>\n",
       "      <td>0.0</td>\n",
       "      <td>0.0</td>\n",
       "      <td>0.736482</td>\n",
       "      <td>0.000000</td>\n",
       "      <td>5.426420</td>\n",
       "      <td>0.000000</td>\n",
       "      <td>0.0</td>\n",
       "    </tr>\n",
       "    <tr>\n",
       "      <th>333196</th>\n",
       "      <td>333197</td>\n",
       "      <td>2006</td>\n",
       "      <td>1</td>\n",
       "      <td>1</td>\n",
       "      <td>0</td>\n",
       "      <td>0.019165</td>\n",
       "      <td>0.0</td>\n",
       "      <td>0.0</td>\n",
       "      <td>0.000000</td>\n",
       "      <td>0.0</td>\n",
       "      <td>0.0</td>\n",
       "      <td>0.0</td>\n",
       "      <td>0.0</td>\n",
       "      <td>0.0</td>\n",
       "      <td>0.0</td>\n",
       "      <td>0.000000</td>\n",
       "      <td>0.000000</td>\n",
       "      <td>0.000000</td>\n",
       "      <td>0.000000</td>\n",
       "      <td>0.0</td>\n",
       "    </tr>\n",
       "    <tr>\n",
       "      <th>333197</th>\n",
       "      <td>333198</td>\n",
       "      <td>2006</td>\n",
       "      <td>0</td>\n",
       "      <td>0</td>\n",
       "      <td>0</td>\n",
       "      <td>0.443532</td>\n",
       "      <td>0.0</td>\n",
       "      <td>0.0</td>\n",
       "      <td>0.000000</td>\n",
       "      <td>0.0</td>\n",
       "      <td>0.0</td>\n",
       "      <td>0.0</td>\n",
       "      <td>0.0</td>\n",
       "      <td>0.0</td>\n",
       "      <td>0.0</td>\n",
       "      <td>0.000000</td>\n",
       "      <td>0.000000</td>\n",
       "      <td>2.321697</td>\n",
       "      <td>2.321697</td>\n",
       "      <td>4.0</td>\n",
       "    </tr>\n",
       "    <tr>\n",
       "      <th>333198</th>\n",
       "      <td>333199</td>\n",
       "      <td>2006</td>\n",
       "      <td>0</td>\n",
       "      <td>3</td>\n",
       "      <td>0</td>\n",
       "      <td>0.013689</td>\n",
       "      <td>0.0</td>\n",
       "      <td>0.0</td>\n",
       "      <td>0.000000</td>\n",
       "      <td>0.0</td>\n",
       "      <td>0.0</td>\n",
       "      <td>0.0</td>\n",
       "      <td>0.0</td>\n",
       "      <td>0.0</td>\n",
       "      <td>0.0</td>\n",
       "      <td>0.000000</td>\n",
       "      <td>0.000000</td>\n",
       "      <td>0.000000</td>\n",
       "      <td>0.000000</td>\n",
       "      <td>0.0</td>\n",
       "    </tr>\n",
       "    <tr>\n",
       "      <th>333199</th>\n",
       "      <td>333200</td>\n",
       "      <td>2006</td>\n",
       "      <td>1</td>\n",
       "      <td>0</td>\n",
       "      <td>0</td>\n",
       "      <td>0.019165</td>\n",
       "      <td>0.0</td>\n",
       "      <td>0.0</td>\n",
       "      <td>0.000000</td>\n",
       "      <td>0.0</td>\n",
       "      <td>0.0</td>\n",
       "      <td>0.0</td>\n",
       "      <td>0.0</td>\n",
       "      <td>0.0</td>\n",
       "      <td>0.0</td>\n",
       "      <td>0.347707</td>\n",
       "      <td>0.000000</td>\n",
       "      <td>0.000000</td>\n",
       "      <td>0.000000</td>\n",
       "      <td>0.0</td>\n",
       "    </tr>\n",
       "  </tbody>\n",
       "</table>\n",
       "<p>333200 rows × 20 columns</p>\n",
       "</div>"
      ],
      "text/plain": [
       "        SUBJECTID  BIRTHYEAR  GENDERFACTOR  RACEFACTOR  ETHNICITYFACTOR  \\\n",
       "0               1       2006             1           1                0   \n",
       "1               2       1994             1           0                0   \n",
       "2               3       2006             0           0                1   \n",
       "3               4       2004             0           4                1   \n",
       "4               5       2006             1           1                0   \n",
       "...           ...        ...           ...         ...              ...   \n",
       "333195     333196       2006             0           0                0   \n",
       "333196     333197       2006             1           1                0   \n",
       "333197     333198       2006             0           0                0   \n",
       "333198     333199       2006             0           3                0   \n",
       "333199     333200       2006             1           0                0   \n",
       "\n",
       "        AGESTARTYEARS  SHELLFISHALGSTART  FISHALGSTART  MILKALGSTART  \\\n",
       "0            0.093087                0.0           0.0      0.000000   \n",
       "1           12.232717                0.0           0.0      0.000000   \n",
       "2            0.010951                0.0           0.0      1.002053   \n",
       "3            2.398357                0.0           0.0      0.000000   \n",
       "4            0.013689                0.0           0.0      0.000000   \n",
       "...               ...                ...           ...           ...   \n",
       "333195       0.736482                0.0           0.0      0.000000   \n",
       "333196       0.019165                0.0           0.0      0.000000   \n",
       "333197       0.443532                0.0           0.0      0.000000   \n",
       "333198       0.013689                0.0           0.0      0.000000   \n",
       "333199       0.019165                0.0           0.0      0.000000   \n",
       "\n",
       "        SOYALGSTART  EGGALGSTART  WHEATALGSTART  PEANUTALGSTART  \\\n",
       "0               0.0          0.0            0.0             0.0   \n",
       "1               0.0          0.0            0.0             0.0   \n",
       "2               0.0          0.0            0.0             0.0   \n",
       "3               0.0          0.0            0.0             0.0   \n",
       "4               0.0          0.0            0.0             0.0   \n",
       "...             ...          ...            ...             ...   \n",
       "333195          0.0          0.0            0.0             0.0   \n",
       "333196          0.0          0.0            0.0             0.0   \n",
       "333197          0.0          0.0            0.0             0.0   \n",
       "333198          0.0          0.0            0.0             0.0   \n",
       "333199          0.0          0.0            0.0             0.0   \n",
       "\n",
       "        SESAMEALGSTART  TREENUTALGSTART  ATOPICDERMSTART  \\\n",
       "0                  0.0              0.0         0.000000   \n",
       "1                  0.0              0.0         0.000000   \n",
       "2                  0.0              0.0         4.884326   \n",
       "3                  0.0              0.0         0.000000   \n",
       "4                  0.0              0.0         0.000000   \n",
       "...                ...              ...              ...   \n",
       "333195             0.0              0.0         0.736482   \n",
       "333196             0.0              0.0         0.000000   \n",
       "333197             0.0              0.0         0.000000   \n",
       "333198             0.0              0.0         0.000000   \n",
       "333199             0.0              0.0         0.347707   \n",
       "\n",
       "        ALLERGICRHINITISSTART  ASTHMASTART  FIRSTASTHMARX  NUMASTHMARX  \n",
       "0                    0.000000     0.000000       0.000000          0.0  \n",
       "1                    0.000000     0.000000      12.262834          2.0  \n",
       "2                    3.917864     5.127995       1.404517          4.0  \n",
       "3                    0.000000     0.000000       0.000000          0.0  \n",
       "4                    0.000000     0.000000       0.000000          0.0  \n",
       "...                       ...          ...            ...          ...  \n",
       "333195               0.000000     5.426420       0.000000          0.0  \n",
       "333196               0.000000     0.000000       0.000000          0.0  \n",
       "333197               0.000000     2.321697       2.321697          4.0  \n",
       "333198               0.000000     0.000000       0.000000          0.0  \n",
       "333199               0.000000     0.000000       0.000000          0.0  \n",
       "\n",
       "[333200 rows x 20 columns]"
      ]
     },
     "execution_count": 13,
     "metadata": {},
     "output_type": "execute_result"
    }
   ],
   "source": [
    "allergy.fillna(0)"
   ]
  },
  {
   "cell_type": "markdown",
   "id": "95d99fdf",
   "metadata": {},
   "source": [
    "#recode age into months / years"
   ]
  },
  {
   "cell_type": "code",
   "execution_count": 14,
   "id": "33165c66",
   "metadata": {},
   "outputs": [],
   "source": [
    "def Age (series):\n",
    "    if series <= 2:\n",
    "        return  2\n",
    "    if series <= 4:\n",
    "        return 4\n",
    "    if series <= 6:\n",
    "        return 6\n",
    "    if series <= 10:\n",
    "        return 10\n",
    "    else:\n",
    "        return 11 - 17\n",
    "    \n",
    "allergy[\"StartAge\"] = allergy['AGESTARTYEARS'].apply(Age)   "
   ]
  },
  {
   "cell_type": "code",
   "execution_count": 15,
   "id": "0a39399d",
   "metadata": {},
   "outputs": [
    {
     "data": {
      "text/plain": [
       " 2     170240\n",
       " 10     49896\n",
       "-6      49809\n",
       " 4      33216\n",
       " 6      30039\n",
       "Name: StartAge, dtype: int64"
      ]
     },
     "execution_count": 15,
     "metadata": {},
     "output_type": "execute_result"
    }
   ],
   "source": [
    "allergy[\"StartAge\"].value_counts()"
   ]
  },
  {
   "cell_type": "code",
   "execution_count": 16,
   "id": "ce298181",
   "metadata": {},
   "outputs": [
    {
     "data": {
      "text/plain": [
       " 2     51.092437\n",
       " 10    14.974790\n",
       "-6     14.948679\n",
       " 4      9.968788\n",
       " 6      9.015306\n",
       "Name: StartAge, dtype: float64"
      ]
     },
     "execution_count": 16,
     "metadata": {},
     "output_type": "execute_result"
    }
   ],
   "source": [
    "allergy['StartAge'].value_counts(normalize=True) * 100"
   ]
  },
  {
   "cell_type": "markdown",
   "id": "f8dbde6f",
   "metadata": {},
   "source": [
    "#This shows that 51.1% of subjects are between the age 2 or under. We're going to focus on this group for our data set and cut the rest out."
   ]
  },
  {
   "cell_type": "markdown",
   "id": "3c754c57",
   "metadata": {},
   "source": [
    "#Children 2 and under have the highest allergy diagnosis count. Will be focusing on that group for our analysis."
   ]
  },
  {
   "cell_type": "code",
   "execution_count": 17,
   "id": "a252cdbb",
   "metadata": {},
   "outputs": [
    {
     "data": {
      "text/plain": [
       " 0.010951     18201\n",
       " 0.013689     17773\n",
       " 0.016427     16645\n",
       " 0.019165     15020\n",
       " 0.008214      8735\n",
       "              ...  \n",
       " 17.180014        1\n",
       "-0.095825         1\n",
       "-0.235455         1\n",
       " 17.341547        1\n",
       " 17.524983        1\n",
       "Name: AGESTARTYEARS, Length: 6480, dtype: int64"
      ]
     },
     "execution_count": 17,
     "metadata": {},
     "output_type": "execute_result"
    }
   ],
   "source": [
    "allergy['AGESTARTYEARS'].value_counts()"
   ]
  },
  {
   "cell_type": "code",
   "execution_count": 18,
   "id": "d27f7791",
   "metadata": {},
   "outputs": [
    {
     "data": {
      "text/plain": [
       "2.0    170240\n",
       "Name: AGESTARTYEARS, dtype: int64"
      ]
     },
     "execution_count": 18,
     "metadata": {},
     "output_type": "execute_result"
    }
   ],
   "source": [
    "def AGESTARTYEARS_recode (series):\n",
    "    if series <= 2:\n",
    "        return  2\n",
    "    \n",
    "allergy[\"AGESTARTYEARS\"] = allergy['AGESTARTYEARS'].apply(AGESTARTYEARS_recode)     \n",
    "allergy[\"AGESTARTYEARS\"].value_counts()"
   ]
  },
  {
   "cell_type": "markdown",
   "id": "66def4fd",
   "metadata": {},
   "source": [
    "#now we are looking at the ages 2 and under. We can completely drop anything over the age of 2."
   ]
  },
  {
   "cell_type": "code",
   "execution_count": 19,
   "id": "971dacd0",
   "metadata": {},
   "outputs": [],
   "source": [
    "allergy = allergy[allergy.AGESTARTYEARS == 2]"
   ]
  },
  {
   "cell_type": "code",
   "execution_count": 20,
   "id": "89e42da9",
   "metadata": {},
   "outputs": [
    {
     "data": {
      "text/plain": [
       "2.0    170240\n",
       "Name: AGESTARTYEARS, dtype: int64"
      ]
     },
     "execution_count": 20,
     "metadata": {},
     "output_type": "execute_result"
    }
   ],
   "source": [
    "allergy[\"AGESTARTYEARS\"].value_counts()"
   ]
  },
  {
   "cell_type": "code",
   "execution_count": 21,
   "id": "00fe4bf9",
   "metadata": {},
   "outputs": [
    {
     "data": {
      "text/html": [
       "<div>\n",
       "<style scoped>\n",
       "    .dataframe tbody tr th:only-of-type {\n",
       "        vertical-align: middle;\n",
       "    }\n",
       "\n",
       "    .dataframe tbody tr th {\n",
       "        vertical-align: top;\n",
       "    }\n",
       "\n",
       "    .dataframe thead th {\n",
       "        text-align: right;\n",
       "    }\n",
       "</style>\n",
       "<table border=\"1\" class=\"dataframe\">\n",
       "  <thead>\n",
       "    <tr style=\"text-align: right;\">\n",
       "      <th></th>\n",
       "      <th>SUBJECTID</th>\n",
       "      <th>BIRTHYEAR</th>\n",
       "      <th>GENDERFACTOR</th>\n",
       "      <th>RACEFACTOR</th>\n",
       "      <th>ETHNICITYFACTOR</th>\n",
       "      <th>AGESTARTYEARS</th>\n",
       "      <th>SHELLFISHALGSTART</th>\n",
       "      <th>FISHALGSTART</th>\n",
       "      <th>MILKALGSTART</th>\n",
       "      <th>SOYALGSTART</th>\n",
       "      <th>...</th>\n",
       "      <th>WHEATALGSTART</th>\n",
       "      <th>PEANUTALGSTART</th>\n",
       "      <th>SESAMEALGSTART</th>\n",
       "      <th>TREENUTALGSTART</th>\n",
       "      <th>ATOPICDERMSTART</th>\n",
       "      <th>ALLERGICRHINITISSTART</th>\n",
       "      <th>ASTHMASTART</th>\n",
       "      <th>FIRSTASTHMARX</th>\n",
       "      <th>NUMASTHMARX</th>\n",
       "      <th>StartAge</th>\n",
       "    </tr>\n",
       "  </thead>\n",
       "  <tbody>\n",
       "    <tr>\n",
       "      <th>0</th>\n",
       "      <td>1</td>\n",
       "      <td>2006</td>\n",
       "      <td>1</td>\n",
       "      <td>1</td>\n",
       "      <td>0</td>\n",
       "      <td>2.0</td>\n",
       "      <td>NaN</td>\n",
       "      <td>NaN</td>\n",
       "      <td>NaN</td>\n",
       "      <td>NaN</td>\n",
       "      <td>...</td>\n",
       "      <td>NaN</td>\n",
       "      <td>NaN</td>\n",
       "      <td>NaN</td>\n",
       "      <td>NaN</td>\n",
       "      <td>NaN</td>\n",
       "      <td>NaN</td>\n",
       "      <td>NaN</td>\n",
       "      <td>NaN</td>\n",
       "      <td>NaN</td>\n",
       "      <td>2</td>\n",
       "    </tr>\n",
       "    <tr>\n",
       "      <th>2</th>\n",
       "      <td>3</td>\n",
       "      <td>2006</td>\n",
       "      <td>0</td>\n",
       "      <td>0</td>\n",
       "      <td>1</td>\n",
       "      <td>2.0</td>\n",
       "      <td>NaN</td>\n",
       "      <td>NaN</td>\n",
       "      <td>1.002053</td>\n",
       "      <td>NaN</td>\n",
       "      <td>...</td>\n",
       "      <td>NaN</td>\n",
       "      <td>NaN</td>\n",
       "      <td>NaN</td>\n",
       "      <td>NaN</td>\n",
       "      <td>4.884326</td>\n",
       "      <td>3.917864</td>\n",
       "      <td>5.127995</td>\n",
       "      <td>1.404517</td>\n",
       "      <td>4.0</td>\n",
       "      <td>2</td>\n",
       "    </tr>\n",
       "    <tr>\n",
       "      <th>4</th>\n",
       "      <td>5</td>\n",
       "      <td>2006</td>\n",
       "      <td>1</td>\n",
       "      <td>1</td>\n",
       "      <td>0</td>\n",
       "      <td>2.0</td>\n",
       "      <td>NaN</td>\n",
       "      <td>NaN</td>\n",
       "      <td>NaN</td>\n",
       "      <td>NaN</td>\n",
       "      <td>...</td>\n",
       "      <td>NaN</td>\n",
       "      <td>NaN</td>\n",
       "      <td>NaN</td>\n",
       "      <td>NaN</td>\n",
       "      <td>NaN</td>\n",
       "      <td>NaN</td>\n",
       "      <td>NaN</td>\n",
       "      <td>NaN</td>\n",
       "      <td>NaN</td>\n",
       "      <td>2</td>\n",
       "    </tr>\n",
       "    <tr>\n",
       "      <th>5</th>\n",
       "      <td>6</td>\n",
       "      <td>2006</td>\n",
       "      <td>0</td>\n",
       "      <td>0</td>\n",
       "      <td>0</td>\n",
       "      <td>2.0</td>\n",
       "      <td>NaN</td>\n",
       "      <td>NaN</td>\n",
       "      <td>NaN</td>\n",
       "      <td>NaN</td>\n",
       "      <td>...</td>\n",
       "      <td>NaN</td>\n",
       "      <td>NaN</td>\n",
       "      <td>NaN</td>\n",
       "      <td>NaN</td>\n",
       "      <td>NaN</td>\n",
       "      <td>NaN</td>\n",
       "      <td>NaN</td>\n",
       "      <td>NaN</td>\n",
       "      <td>NaN</td>\n",
       "      <td>2</td>\n",
       "    </tr>\n",
       "    <tr>\n",
       "      <th>6</th>\n",
       "      <td>7</td>\n",
       "      <td>2006</td>\n",
       "      <td>1</td>\n",
       "      <td>0</td>\n",
       "      <td>0</td>\n",
       "      <td>2.0</td>\n",
       "      <td>NaN</td>\n",
       "      <td>NaN</td>\n",
       "      <td>NaN</td>\n",
       "      <td>NaN</td>\n",
       "      <td>...</td>\n",
       "      <td>NaN</td>\n",
       "      <td>NaN</td>\n",
       "      <td>NaN</td>\n",
       "      <td>NaN</td>\n",
       "      <td>NaN</td>\n",
       "      <td>NaN</td>\n",
       "      <td>NaN</td>\n",
       "      <td>NaN</td>\n",
       "      <td>NaN</td>\n",
       "      <td>2</td>\n",
       "    </tr>\n",
       "    <tr>\n",
       "      <th>...</th>\n",
       "      <td>...</td>\n",
       "      <td>...</td>\n",
       "      <td>...</td>\n",
       "      <td>...</td>\n",
       "      <td>...</td>\n",
       "      <td>...</td>\n",
       "      <td>...</td>\n",
       "      <td>...</td>\n",
       "      <td>...</td>\n",
       "      <td>...</td>\n",
       "      <td>...</td>\n",
       "      <td>...</td>\n",
       "      <td>...</td>\n",
       "      <td>...</td>\n",
       "      <td>...</td>\n",
       "      <td>...</td>\n",
       "      <td>...</td>\n",
       "      <td>...</td>\n",
       "      <td>...</td>\n",
       "      <td>...</td>\n",
       "      <td>...</td>\n",
       "    </tr>\n",
       "    <tr>\n",
       "      <th>333195</th>\n",
       "      <td>333196</td>\n",
       "      <td>2006</td>\n",
       "      <td>0</td>\n",
       "      <td>0</td>\n",
       "      <td>0</td>\n",
       "      <td>2.0</td>\n",
       "      <td>NaN</td>\n",
       "      <td>NaN</td>\n",
       "      <td>NaN</td>\n",
       "      <td>NaN</td>\n",
       "      <td>...</td>\n",
       "      <td>NaN</td>\n",
       "      <td>NaN</td>\n",
       "      <td>NaN</td>\n",
       "      <td>NaN</td>\n",
       "      <td>0.736482</td>\n",
       "      <td>NaN</td>\n",
       "      <td>5.426420</td>\n",
       "      <td>NaN</td>\n",
       "      <td>NaN</td>\n",
       "      <td>2</td>\n",
       "    </tr>\n",
       "    <tr>\n",
       "      <th>333196</th>\n",
       "      <td>333197</td>\n",
       "      <td>2006</td>\n",
       "      <td>1</td>\n",
       "      <td>1</td>\n",
       "      <td>0</td>\n",
       "      <td>2.0</td>\n",
       "      <td>NaN</td>\n",
       "      <td>NaN</td>\n",
       "      <td>NaN</td>\n",
       "      <td>NaN</td>\n",
       "      <td>...</td>\n",
       "      <td>NaN</td>\n",
       "      <td>NaN</td>\n",
       "      <td>NaN</td>\n",
       "      <td>NaN</td>\n",
       "      <td>NaN</td>\n",
       "      <td>NaN</td>\n",
       "      <td>NaN</td>\n",
       "      <td>NaN</td>\n",
       "      <td>NaN</td>\n",
       "      <td>2</td>\n",
       "    </tr>\n",
       "    <tr>\n",
       "      <th>333197</th>\n",
       "      <td>333198</td>\n",
       "      <td>2006</td>\n",
       "      <td>0</td>\n",
       "      <td>0</td>\n",
       "      <td>0</td>\n",
       "      <td>2.0</td>\n",
       "      <td>NaN</td>\n",
       "      <td>NaN</td>\n",
       "      <td>NaN</td>\n",
       "      <td>NaN</td>\n",
       "      <td>...</td>\n",
       "      <td>NaN</td>\n",
       "      <td>NaN</td>\n",
       "      <td>NaN</td>\n",
       "      <td>NaN</td>\n",
       "      <td>NaN</td>\n",
       "      <td>NaN</td>\n",
       "      <td>2.321697</td>\n",
       "      <td>2.321697</td>\n",
       "      <td>4.0</td>\n",
       "      <td>2</td>\n",
       "    </tr>\n",
       "    <tr>\n",
       "      <th>333198</th>\n",
       "      <td>333199</td>\n",
       "      <td>2006</td>\n",
       "      <td>0</td>\n",
       "      <td>3</td>\n",
       "      <td>0</td>\n",
       "      <td>2.0</td>\n",
       "      <td>NaN</td>\n",
       "      <td>NaN</td>\n",
       "      <td>NaN</td>\n",
       "      <td>NaN</td>\n",
       "      <td>...</td>\n",
       "      <td>NaN</td>\n",
       "      <td>NaN</td>\n",
       "      <td>NaN</td>\n",
       "      <td>NaN</td>\n",
       "      <td>NaN</td>\n",
       "      <td>NaN</td>\n",
       "      <td>NaN</td>\n",
       "      <td>NaN</td>\n",
       "      <td>NaN</td>\n",
       "      <td>2</td>\n",
       "    </tr>\n",
       "    <tr>\n",
       "      <th>333199</th>\n",
       "      <td>333200</td>\n",
       "      <td>2006</td>\n",
       "      <td>1</td>\n",
       "      <td>0</td>\n",
       "      <td>0</td>\n",
       "      <td>2.0</td>\n",
       "      <td>NaN</td>\n",
       "      <td>NaN</td>\n",
       "      <td>NaN</td>\n",
       "      <td>NaN</td>\n",
       "      <td>...</td>\n",
       "      <td>NaN</td>\n",
       "      <td>NaN</td>\n",
       "      <td>NaN</td>\n",
       "      <td>NaN</td>\n",
       "      <td>0.347707</td>\n",
       "      <td>NaN</td>\n",
       "      <td>NaN</td>\n",
       "      <td>NaN</td>\n",
       "      <td>NaN</td>\n",
       "      <td>2</td>\n",
       "    </tr>\n",
       "  </tbody>\n",
       "</table>\n",
       "<p>170240 rows × 21 columns</p>\n",
       "</div>"
      ],
      "text/plain": [
       "        SUBJECTID  BIRTHYEAR  GENDERFACTOR  RACEFACTOR  ETHNICITYFACTOR  \\\n",
       "0               1       2006             1           1                0   \n",
       "2               3       2006             0           0                1   \n",
       "4               5       2006             1           1                0   \n",
       "5               6       2006             0           0                0   \n",
       "6               7       2006             1           0                0   \n",
       "...           ...        ...           ...         ...              ...   \n",
       "333195     333196       2006             0           0                0   \n",
       "333196     333197       2006             1           1                0   \n",
       "333197     333198       2006             0           0                0   \n",
       "333198     333199       2006             0           3                0   \n",
       "333199     333200       2006             1           0                0   \n",
       "\n",
       "        AGESTARTYEARS  SHELLFISHALGSTART  FISHALGSTART  MILKALGSTART  \\\n",
       "0                 2.0                NaN           NaN           NaN   \n",
       "2                 2.0                NaN           NaN      1.002053   \n",
       "4                 2.0                NaN           NaN           NaN   \n",
       "5                 2.0                NaN           NaN           NaN   \n",
       "6                 2.0                NaN           NaN           NaN   \n",
       "...               ...                ...           ...           ...   \n",
       "333195            2.0                NaN           NaN           NaN   \n",
       "333196            2.0                NaN           NaN           NaN   \n",
       "333197            2.0                NaN           NaN           NaN   \n",
       "333198            2.0                NaN           NaN           NaN   \n",
       "333199            2.0                NaN           NaN           NaN   \n",
       "\n",
       "        SOYALGSTART  ...  WHEATALGSTART  PEANUTALGSTART  SESAMEALGSTART  \\\n",
       "0               NaN  ...            NaN             NaN             NaN   \n",
       "2               NaN  ...            NaN             NaN             NaN   \n",
       "4               NaN  ...            NaN             NaN             NaN   \n",
       "5               NaN  ...            NaN             NaN             NaN   \n",
       "6               NaN  ...            NaN             NaN             NaN   \n",
       "...             ...  ...            ...             ...             ...   \n",
       "333195          NaN  ...            NaN             NaN             NaN   \n",
       "333196          NaN  ...            NaN             NaN             NaN   \n",
       "333197          NaN  ...            NaN             NaN             NaN   \n",
       "333198          NaN  ...            NaN             NaN             NaN   \n",
       "333199          NaN  ...            NaN             NaN             NaN   \n",
       "\n",
       "        TREENUTALGSTART  ATOPICDERMSTART  ALLERGICRHINITISSTART  ASTHMASTART  \\\n",
       "0                   NaN              NaN                    NaN          NaN   \n",
       "2                   NaN         4.884326               3.917864     5.127995   \n",
       "4                   NaN              NaN                    NaN          NaN   \n",
       "5                   NaN              NaN                    NaN          NaN   \n",
       "6                   NaN              NaN                    NaN          NaN   \n",
       "...                 ...              ...                    ...          ...   \n",
       "333195              NaN         0.736482                    NaN     5.426420   \n",
       "333196              NaN              NaN                    NaN          NaN   \n",
       "333197              NaN              NaN                    NaN     2.321697   \n",
       "333198              NaN              NaN                    NaN          NaN   \n",
       "333199              NaN         0.347707                    NaN          NaN   \n",
       "\n",
       "        FIRSTASTHMARX  NUMASTHMARX  StartAge  \n",
       "0                 NaN          NaN         2  \n",
       "2            1.404517          4.0         2  \n",
       "4                 NaN          NaN         2  \n",
       "5                 NaN          NaN         2  \n",
       "6                 NaN          NaN         2  \n",
       "...               ...          ...       ...  \n",
       "333195            NaN          NaN         2  \n",
       "333196            NaN          NaN         2  \n",
       "333197       2.321697          4.0         2  \n",
       "333198            NaN          NaN         2  \n",
       "333199            NaN          NaN         2  \n",
       "\n",
       "[170240 rows x 21 columns]"
      ]
     },
     "execution_count": 21,
     "metadata": {},
     "output_type": "execute_result"
    }
   ],
   "source": [
    "allergy"
   ]
  },
  {
   "cell_type": "markdown",
   "id": "eb990c5b",
   "metadata": {},
   "source": [
    "#Let's look at the percentages for RACE, GENDER, and ETHNICITY factors."
   ]
  },
  {
   "cell_type": "code",
   "execution_count": 22,
   "id": "a601184f",
   "metadata": {},
   "outputs": [
    {
     "data": {
      "text/plain": [
       "0    54.179981\n",
       "1    29.272791\n",
       "4    12.498825\n",
       "2     3.184915\n",
       "3     0.863487\n",
       "Name: RACEFACTOR, dtype: float64"
      ]
     },
     "execution_count": 22,
     "metadata": {},
     "output_type": "execute_result"
    }
   ],
   "source": [
    "allergy['RACEFACTOR'].value_counts(normalize=True) * 100"
   ]
  },
  {
   "cell_type": "markdown",
   "id": "da986356",
   "metadata": {},
   "source": [
    "#ok so 54.2% of subjects are white, 29.3% of subjects are black, 3.2% are of subjects asian/pacific islander, .9% of subjects are other, and 12.5% of subjects are unknown"
   ]
  },
  {
   "cell_type": "code",
   "execution_count": 23,
   "id": "78299877",
   "metadata": {},
   "outputs": [
    {
     "data": {
      "text/plain": [
       "0    51.410949\n",
       "1    48.589051\n",
       "Name: GENDERFACTOR, dtype: float64"
      ]
     },
     "execution_count": 23,
     "metadata": {},
     "output_type": "execute_result"
    }
   ],
   "source": [
    "allergy['GENDERFACTOR'].value_counts(normalize=True) * 100"
   ]
  },
  {
   "cell_type": "markdown",
   "id": "3c618ec6",
   "metadata": {},
   "source": [
    "#so 51.4% of the test subjects are male, 48.6% of subjects are female."
   ]
  },
  {
   "cell_type": "code",
   "execution_count": 24,
   "id": "935e4ff1",
   "metadata": {},
   "outputs": [
    {
     "data": {
      "text/plain": [
       "0    94.494243\n",
       "1     5.505757\n",
       "Name: ETHNICITYFACTOR, dtype: float64"
      ]
     },
     "execution_count": 24,
     "metadata": {},
     "output_type": "execute_result"
    }
   ],
   "source": [
    "allergy['ETHNICITYFACTOR'].value_counts(normalize=True) * 100"
   ]
  },
  {
   "cell_type": "markdown",
   "id": "dbe2ce0b",
   "metadata": {},
   "source": [
    "#that shows us that 94.5% of subjects identify as non-hispanic, while 5.5% identify as hispanic."
   ]
  },
  {
   "cell_type": "code",
   "execution_count": 25,
   "id": "a0b72323",
   "metadata": {},
   "outputs": [],
   "source": [
    "allergy = pd.read_excel('C:/Users/kesle/OneDrive/Desktop/Copy of food-allergy-analysis-Zenodo-3-9.xlsx')"
   ]
  },
  {
   "cell_type": "code",
   "execution_count": 26,
   "id": "bc6382f9",
   "metadata": {},
   "outputs": [
    {
     "data": {
      "text/plain": [
       "Text(0, 0.5, 'Shellfish Allergy')"
      ]
     },
     "execution_count": 26,
     "metadata": {},
     "output_type": "execute_result"
    },
    {
     "data": {
      "image/png": "[encoded data removed]",
      "text/plain": [
       "<Figure size 640x480 with 1 Axes>"
      ]
     },
     "metadata": {},
     "output_type": "display_data"
    }
   ],
   "source": [
    "Plot=allergy.plot.scatter(x=\"AGESTARTYEARS\", y=\"SHELLFISHALGSTART\")\n",
    "Plot.set_title(\"Diagnosis of Shellfish Allergy\")\n",
    "Plot.set_xlabel(\"Age\")\n",
    "Plot.set_ylabel(\"Shellfish Allergy\")"
   ]
  },
  {
   "cell_type": "code",
   "execution_count": 27,
   "id": "d15459d6",
   "metadata": {},
   "outputs": [
    {
     "data": {
      "text/plain": [
       "count    170240.000000\n",
       "mean          0.062138\n",
       "std           0.628451\n",
       "min           0.000000\n",
       "25%           0.000000\n",
       "50%           0.000000\n",
       "75%           0.000000\n",
       "max          13.930185\n",
       "Name: SHELLFISHALGSTART, dtype: float64"
      ]
     },
     "execution_count": 27,
     "metadata": {},
     "output_type": "execute_result"
    }
   ],
   "source": [
    "allergy.SHELLFISHALGSTART.describe()"
   ]
  },
  {
   "cell_type": "markdown",
   "id": "61eca300",
   "metadata": {},
   "source": [
    "#mean is 4.5 years old for diagnosis, standard deviation is 2.9. 2338 children between 0-2 have a shellfish allergy."
   ]
  },
  {
   "cell_type": "code",
   "execution_count": 28,
   "id": "7819ff99",
   "metadata": {},
   "outputs": [
    {
     "data": {
      "text/plain": [
       "Text(0, 0.5, 'Fish Allergy')"
      ]
     },
     "execution_count": 28,
     "metadata": {},
     "output_type": "execute_result"
    },
    {
     "data": {
      "image/png": "[encoded data removed]",
      "text/plain": [
       "<Figure size 640x480 with 1 Axes>"
      ]
     },
     "metadata": {},
     "output_type": "display_data"
    }
   ],
   "source": [
    "Plot=allergy.plot.scatter(x=\"AGESTARTYEARS\", y=\"FISHALGSTART\")\n",
    "Plot.set_title(\"Diagnosis of Fish Allergy\")\n",
    "Plot.set_xlabel(\"Age\")\n",
    "Plot.set_ylabel(\"Fish Allergy\")"
   ]
  },
  {
   "cell_type": "code",
   "execution_count": 29,
   "id": "0e295df5",
   "metadata": {},
   "outputs": [
    {
     "data": {
      "text/plain": [
       "count    170240.000000\n",
       "mean          0.020094\n",
       "std           0.324056\n",
       "min           0.000000\n",
       "25%           0.000000\n",
       "50%           0.000000\n",
       "75%           0.000000\n",
       "max          13.982204\n",
       "Name: FISHALGSTART, dtype: float64"
      ]
     },
     "execution_count": 29,
     "metadata": {},
     "output_type": "execute_result"
    }
   ],
   "source": [
    "allergy.FISHALGSTART.describe()"
   ]
  },
  {
   "cell_type": "markdown",
   "id": "bf3e1df4",
   "metadata": {},
   "source": [
    "#mean is 3.4 years old for diagnosis, standard deviation is 2.5. 1000 children between 0-2 have a fish allergy."
   ]
  },
  {
   "cell_type": "code",
   "execution_count": 30,
   "id": "22955118",
   "metadata": {},
   "outputs": [
    {
     "data": {
      "text/plain": [
       "Text(0, 0.5, 'Milk Allergy')"
      ]
     },
     "execution_count": 30,
     "metadata": {},
     "output_type": "execute_result"
    },
    {
     "data": {
      "image/png": "[encoded data removed]",
      "text/plain": [
       "<Figure size 640x480 with 1 Axes>"
      ]
     },
     "metadata": {},
     "output_type": "display_data"
    }
   ],
   "source": [
    "Plot=allergy.plot.scatter(x=\"AGESTARTYEARS\", y=\"MILKALGSTART\")\n",
    "Plot.set_title(\"Diagnosis of Milk Allergy\")\n",
    "Plot.set_xlabel(\"Age\")\n",
    "Plot.set_ylabel(\"Milk Allergy\")"
   ]
  },
  {
   "cell_type": "code",
   "execution_count": 31,
   "id": "3ee95de3",
   "metadata": {},
   "outputs": [
    {
     "data": {
      "text/plain": [
       "count    170240.000000\n",
       "mean          0.056410\n",
       "std           0.482217\n",
       "min         -60.112252\n",
       "25%           0.000000\n",
       "50%           0.000000\n",
       "75%           0.000000\n",
       "max          13.127995\n",
       "Name: MILKALGSTART, dtype: float64"
      ]
     },
     "execution_count": 31,
     "metadata": {},
     "output_type": "execute_result"
    }
   ],
   "source": [
    "allergy.MILKALGSTART.describe()"
   ]
  },
  {
   "cell_type": "markdown",
   "id": "57ba484c",
   "metadata": {},
   "source": [
    "#mean is 1.7 years old for diagnosis, standard deviation is 2. 5,647 children between 0-2 have a milk allergy."
   ]
  },
  {
   "cell_type": "code",
   "execution_count": 32,
   "id": "db225ab0",
   "metadata": {},
   "outputs": [
    {
     "data": {
      "text/plain": [
       "Text(0, 0.5, 'Soy Allergy')"
      ]
     },
     "execution_count": 32,
     "metadata": {},
     "output_type": "execute_result"
    },
    {
     "data": {
      "image/png": "[encoded data removed]",
      "text/plain": [
       "<Figure size 640x480 with 1 Axes>"
      ]
     },
     "metadata": {},
     "output_type": "display_data"
    }
   ],
   "source": [
    "Plot=allergy.plot.scatter(x=\"AGESTARTYEARS\", y=\"SOYALGSTART\")\n",
    "Plot.set_title(\"Diagnosis of Soy Allergy\")\n",
    "Plot.set_xlabel(\"Age\")\n",
    "Plot.set_ylabel(\"Soy Allergy\")"
   ]
  },
  {
   "cell_type": "code",
   "execution_count": 33,
   "id": "25202d8f",
   "metadata": {},
   "outputs": [
    {
     "data": {
      "text/plain": [
       "count    170240.000000\n",
       "mean          0.022418\n",
       "std           0.318074\n",
       "min           0.000000\n",
       "25%           0.000000\n",
       "50%           0.000000\n",
       "75%           0.000000\n",
       "max          13.095140\n",
       "Name: SOYALGSTART, dtype: float64"
      ]
     },
     "execution_count": 33,
     "metadata": {},
     "output_type": "execute_result"
    }
   ],
   "source": [
    "allergy.SOYALGSTART.describe()"
   ]
  },
  {
   "cell_type": "markdown",
   "id": "2454a9c2",
   "metadata": {},
   "source": [
    "#mean is 2 years old for diagnosis, standard deviation is 2.3. 1,829 children between 0-2 have a soy allergy."
   ]
  },
  {
   "cell_type": "code",
   "execution_count": 34,
   "id": "6a9db8d9",
   "metadata": {},
   "outputs": [
    {
     "data": {
      "text/plain": [
       "Text(0, 0.5, 'Egg Allergy')"
      ]
     },
     "execution_count": 34,
     "metadata": {},
     "output_type": "execute_result"
    },
    {
     "data": {
      "image/png": "[encoded data removed]",
      "text/plain": [
       "<Figure size 640x480 with 1 Axes>"
      ]
     },
     "metadata": {},
     "output_type": "display_data"
    }
   ],
   "source": [
    "Plot=allergy.plot.scatter(x=\"AGESTARTYEARS\", y=\"EGGALGSTART\")\n",
    "Plot.set_title(\"Diagnosis of Egg Allergy\")\n",
    "Plot.set_xlabel(\"Age\")\n",
    "Plot.set_ylabel(\"Egg Allergy\")"
   ]
  },
  {
   "cell_type": "code",
   "execution_count": 35,
   "id": "3a9f30ac",
   "metadata": {},
   "outputs": [
    {
     "data": {
      "text/plain": [
       "count    170240.000000\n",
       "mean          0.055312\n",
       "std           0.497567\n",
       "min         -98.866530\n",
       "25%           0.000000\n",
       "50%           0.000000\n",
       "75%           0.000000\n",
       "max          13.218344\n",
       "Name: EGGALGSTART, dtype: float64"
      ]
     },
     "execution_count": 35,
     "metadata": {},
     "output_type": "execute_result"
    }
   ],
   "source": [
    "allergy.EGGALGSTART.describe()"
   ]
  },
  {
   "cell_type": "markdown",
   "id": "8a4927fa",
   "metadata": {},
   "source": [
    "#mean is 2 years old for diagnosis, standard deviation is 2.2. 4,719 children between 0-2 have an egg allergy."
   ]
  },
  {
   "cell_type": "code",
   "execution_count": 36,
   "id": "22273a85",
   "metadata": {},
   "outputs": [
    {
     "data": {
      "text/plain": [
       "Text(0, 0.5, 'Wheat Allergy')"
      ]
     },
     "execution_count": 36,
     "metadata": {},
     "output_type": "execute_result"
    },
    {
     "data": {
      "image/png": "[encoded data removed]",
      "text/plain": [
       "<Figure size 640x480 with 1 Axes>"
      ]
     },
     "metadata": {},
     "output_type": "display_data"
    }
   ],
   "source": [
    "Plot=allergy.plot.scatter(x=\"AGESTARTYEARS\", y=\"WHEATALGSTART\")\n",
    "Plot.set_title(\"Diagnosis of Wheat Allergy\")\n",
    "Plot.set_xlabel(\"Age\")\n",
    "Plot.set_ylabel(\"Wheat Allergy\")"
   ]
  },
  {
   "cell_type": "code",
   "execution_count": 37,
   "id": "4ddd006d",
   "metadata": {},
   "outputs": [
    {
     "data": {
      "text/plain": [
       "count    170240.000000\n",
       "mean          0.011429\n",
       "std           0.235558\n",
       "min           0.000000\n",
       "25%           0.000000\n",
       "50%           0.000000\n",
       "75%           0.000000\n",
       "max          14.138261\n",
       "Name: WHEATALGSTART, dtype: float64"
      ]
     },
     "execution_count": 37,
     "metadata": {},
     "output_type": "execute_result"
    }
   ],
   "source": [
    "allergy.WHEATALGSTART.describe()"
   ]
  },
  {
   "cell_type": "markdown",
   "id": "1bde5b1d",
   "metadata": {},
   "source": [
    "#mean is 2.4 years old for diagnosis, standard deviation is 2.43. 796 children between 0-2 have a wheat allergy."
   ]
  },
  {
   "cell_type": "code",
   "execution_count": 38,
   "id": "8cd627ad",
   "metadata": {},
   "outputs": [
    {
     "data": {
      "text/plain": [
       "Text(0, 0.5, 'Peanut Allergy')"
      ]
     },
     "execution_count": 38,
     "metadata": {},
     "output_type": "execute_result"
    },
    {
     "data": {
      "image/png": "[encoded data removed]",
      "text/plain": [
       "<Figure size 640x480 with 1 Axes>"
      ]
     },
     "metadata": {},
     "output_type": "display_data"
    }
   ],
   "source": [
    "Plot=allergy.plot.scatter(x=\"AGESTARTYEARS\", y=\"PEANUTALGSTART\")\n",
    "Plot.set_title(\"Diagnosis of Peanut Allergy\")\n",
    "Plot.set_xlabel(\"Age\")\n",
    "Plot.set_ylabel(\"Peanut Allergy\")"
   ]
  },
  {
   "cell_type": "code",
   "execution_count": 39,
   "id": "c86f2f1e",
   "metadata": {},
   "outputs": [
    {
     "data": {
      "text/plain": [
       "count    170240.000000\n",
       "mean          0.091171\n",
       "std           0.629037\n",
       "min           0.000000\n",
       "25%           0.000000\n",
       "50%           0.000000\n",
       "75%           0.000000\n",
       "max          13.875428\n",
       "Name: PEANUTALGSTART, dtype: float64"
      ]
     },
     "execution_count": 39,
     "metadata": {},
     "output_type": "execute_result"
    }
   ],
   "source": [
    "allergy.PEANUTALGSTART.describe()"
   ]
  },
  {
   "cell_type": "markdown",
   "id": "2769b18a",
   "metadata": {},
   "source": [
    "#mean is 2.8 years old for diagnosis, standard deviation is 2.14. 5,576 children between 0-2 have a peanut allergy."
   ]
  },
  {
   "cell_type": "code",
   "execution_count": 40,
   "id": "cee4f167",
   "metadata": {},
   "outputs": [
    {
     "data": {
      "text/plain": [
       "Text(0, 0.5, 'Sesame Allergy')"
      ]
     },
     "execution_count": 40,
     "metadata": {},
     "output_type": "execute_result"
    },
    {
     "data": {
      "image/png": "[encoded data removed]",
      "text/plain": [
       "<Figure size 640x480 with 1 Axes>"
      ]
     },
     "metadata": {},
     "output_type": "display_data"
    }
   ],
   "source": [
    "Plot=allergy.plot.scatter(x=\"AGESTARTYEARS\", y=\"SESAMEALGSTART\")\n",
    "Plot.set_title(\"Diagnosis of Sesame Allergy\")\n",
    "Plot.set_xlabel(\"Age\")\n",
    "Plot.set_ylabel(\"Sesame Allergy\")"
   ]
  },
  {
   "cell_type": "code",
   "execution_count": 41,
   "id": "294609d0",
   "metadata": {},
   "outputs": [
    {
     "data": {
      "text/plain": [
       "count    170240.000000\n",
       "mean          0.013651\n",
       "std           0.291422\n",
       "min           0.000000\n",
       "25%           0.000000\n",
       "50%           0.000000\n",
       "75%           0.000000\n",
       "max          12.906229\n",
       "Name: SESAMEALGSTART, dtype: float64"
      ]
     },
     "execution_count": 41,
     "metadata": {},
     "output_type": "execute_result"
    }
   ],
   "source": [
    "allergy.SESAMEALGSTART.describe()"
   ]
  },
  {
   "cell_type": "markdown",
   "id": "0c8d12bf",
   "metadata": {},
   "source": [
    "#mean is 4.4 years old for diagnosis, standard deviation is 2.8. 524 children between 0-2 have a sesame allergy."
   ]
  },
  {
   "cell_type": "markdown",
   "id": "6fc0a1ec",
   "metadata": {},
   "source": [
    "Creating a contingency table and run chi test, will start with gender factor and shellfish allergy."
   ]
  },
  {
   "cell_type": "code",
   "execution_count": null,
   "id": "0fc9a9b9",
   "metadata": {},
   "outputs": [],
   "source": [
    "allergy_crosstab = pd.crosstab(allergy['GENDERFACTOR'],\n",
    "                            allergy['SHELLFISHALGSTART'],\n",
    "                           margins=True, margins_name=\"Total\")"
   ]
  },
  {
   "cell_type": "code",
   "execution_count": 44,
   "id": "89bee773",
   "metadata": {},
   "outputs": [],
   "source": [
    "alpha = 0.05"
   ]
  },
  {
   "cell_type": "code",
   "execution_count": 46,
   "id": "56fd2fa9",
   "metadata": {},
   "outputs": [],
   "source": [
    "chi_square = 0\n",
    "rows = allergy['GENDERFACTOR'].unique()\n",
    "columns = allergy['SHELLFISHALGSTART'].unique()\n",
    "for i in columns:\n",
    "    for j in rows:\n",
    "        O = allergy_crosstab[i][j]\n",
    "        E = allergy_crosstab[i]['Total'] * allergy_crosstab['Total'][j] / allergy_crosstab['Total']['Total']\n",
    "        chi_square += (O-E)**2/E"
   ]
  },
  {
   "cell_type": "code",
   "execution_count": 47,
   "id": "87e5003c",
   "metadata": {},
   "outputs": [
    {
     "name": "stdout",
     "output_type": "stream",
     "text": [
      "Approach 1: The p-value approach to hypothesis testing in the decision rule\n",
      "chisquare-score is: 1661.210902233995  and p value is: 0.5353902429778938\n",
      "Failed to reject the null hypothesis.\n"
     ]
    }
   ],
   "source": [
    "print(\"Approach 1: The p-value approach to hypothesis testing in the decision rule\")\n",
    "p_value = 1 - stats.chi2.cdf(chi_square, (len(rows)-1)*(len(columns)-1))\n",
    "conclusion = \"Failed to reject the null hypothesis.\"\n",
    "if p_value <= alpha:\n",
    "    conclusion = \"Null Hypothesis is rejected.\"\n",
    "        \n",
    "print(\"chisquare-score is:\", chi_square, \" and p value is:\", p_value)\n",
    "print(conclusion)"
   ]
  },
  {
   "cell_type": "markdown",
   "id": "bff572c2",
   "metadata": {},
   "source": [
    "#Now for gender factor and fish allergy"
   ]
  },
  {
   "cell_type": "code",
   "execution_count": 48,
   "id": "70f29e14",
   "metadata": {},
   "outputs": [],
   "source": [
    "allergy_crosstab = pd.crosstab(allergy['GENDERFACTOR'],\n",
    "                            allergy['FISHALGSTART'],\n",
    "                           margins=True, margins_name=\"Total\")"
   ]
  },
  {
   "cell_type": "code",
   "execution_count": 49,
   "id": "bf20d5e6",
   "metadata": {},
   "outputs": [],
   "source": [
    "alpha = 0.05"
   ]
  },
  {
   "cell_type": "code",
   "execution_count": 50,
   "id": "e6238fb9",
   "metadata": {},
   "outputs": [],
   "source": [
    "chi_square = 0\n",
    "rows = allergy['GENDERFACTOR'].unique()\n",
    "columns = allergy['FISHALGSTART'].unique()\n",
    "for i in columns:\n",
    "    for j in rows:\n",
    "        O = allergy_crosstab[i][j]\n",
    "        E = allergy_crosstab[i]['Total'] * allergy_crosstab['Total'][j] / allergy_crosstab['Total']['Total']\n",
    "        chi_square += (O-E)**2/E"
   ]
  },
  {
   "cell_type": "code",
   "execution_count": 51,
   "id": "aef8ed1f",
   "metadata": {},
   "outputs": [
    {
     "name": "stdout",
     "output_type": "stream",
     "text": [
      "Approach 1: The p-value approach to hypothesis testing in the decision rule\n",
      "chisquare-score is: 807.9450537369171  and p value is: 0.4444205489447812\n",
      "Failed to reject the null hypothesis.\n"
     ]
    }
   ],
   "source": [
    "print(\"Approach 1: The p-value approach to hypothesis testing in the decision rule\")\n",
    "p_value = 1 - stats.chi2.cdf(chi_square, (len(rows)-1)*(len(columns)-1))\n",
    "conclusion = \"Failed to reject the null hypothesis.\"\n",
    "if p_value <= alpha:\n",
    "    conclusion = \"Null Hypothesis is rejected.\"\n",
    "        \n",
    "print(\"chisquare-score is:\", chi_square, \" and p value is:\", p_value)\n",
    "print(conclusion)"
   ]
  },
  {
   "cell_type": "markdown",
   "id": "8c10da00",
   "metadata": {},
   "source": [
    "#Now for gender and milk."
   ]
  },
  {
   "cell_type": "code",
   "execution_count": 52,
   "id": "d7af02e6",
   "metadata": {},
   "outputs": [],
   "source": [
    "allergy_crosstab = pd.crosstab(allergy['GENDERFACTOR'],\n",
    "                            allergy['MILKALGSTART'],\n",
    "                           margins=True, margins_name=\"Total\")"
   ]
  },
  {
   "cell_type": "code",
   "execution_count": 53,
   "id": "4a1e49a6",
   "metadata": {},
   "outputs": [],
   "source": [
    "alpha = 0.05"
   ]
  },
  {
   "cell_type": "code",
   "execution_count": 54,
   "id": "f1a030f4",
   "metadata": {},
   "outputs": [],
   "source": [
    "chi_square = 0\n",
    "rows = allergy['GENDERFACTOR'].unique()\n",
    "columns = allergy['MILKALGSTART'].unique()\n",
    "for i in columns:\n",
    "    for j in rows:\n",
    "        O = allergy_crosstab[i][j]\n",
    "        E = allergy_crosstab[i]['Total'] * allergy_crosstab['Total'][j] / allergy_crosstab['Total']['Total']\n",
    "        chi_square += (O-E)**2/E"
   ]
  },
  {
   "cell_type": "code",
   "execution_count": 55,
   "id": "e5b4d04f",
   "metadata": {},
   "outputs": [
    {
     "name": "stdout",
     "output_type": "stream",
     "text": [
      "Approach 1: The p-value approach to hypothesis testing in the decision rule\n",
      "chisquare-score is: 1744.3590826424022  and p value is: 0.15334176799750387\n",
      "Failed to reject the null hypothesis.\n"
     ]
    }
   ],
   "source": [
    "print(\"Approach 1: The p-value approach to hypothesis testing in the decision rule\")\n",
    "p_value = 1 - stats.chi2.cdf(chi_square, (len(rows)-1)*(len(columns)-1))\n",
    "conclusion = \"Failed to reject the null hypothesis.\"\n",
    "if p_value <= alpha:\n",
    "    conclusion = \"Null Hypothesis is rejected.\"\n",
    "        \n",
    "print(\"chisquare-score is:\", chi_square, \" and p value is:\", p_value)\n",
    "print(conclusion)"
   ]
  },
  {
   "cell_type": "markdown",
   "id": "72724e82",
   "metadata": {},
   "source": [
    "#Now for gender and soy"
   ]
  },
  {
   "cell_type": "code",
   "execution_count": 56,
   "id": "ad36a8e5",
   "metadata": {},
   "outputs": [],
   "source": [
    "allergy_crosstab = pd.crosstab(allergy['GENDERFACTOR'],\n",
    "                            allergy['SOYALGSTART'],\n",
    "                           margins=True, margins_name=\"Total\")"
   ]
  },
  {
   "cell_type": "code",
   "execution_count": 57,
   "id": "83fe2495",
   "metadata": {},
   "outputs": [],
   "source": [
    "alpha = 0.05"
   ]
  },
  {
   "cell_type": "code",
   "execution_count": 58,
   "id": "69aeff48",
   "metadata": {},
   "outputs": [],
   "source": [
    "chi_square = 0\n",
    "rows = allergy['GENDERFACTOR'].unique()\n",
    "columns = allergy['SOYALGSTART'].unique()\n",
    "for i in columns:\n",
    "    for j in rows:\n",
    "        O = allergy_crosstab[i][j]\n",
    "        E = allergy_crosstab[i]['Total'] * allergy_crosstab['Total'][j] / allergy_crosstab['Total']['Total']\n",
    "        chi_square += (O-E)**2/E"
   ]
  },
  {
   "cell_type": "code",
   "execution_count": 59,
   "id": "cc2ace17",
   "metadata": {},
   "outputs": [
    {
     "name": "stdout",
     "output_type": "stream",
     "text": [
      "Approach 1: The p-value approach to hypothesis testing in the decision rule\n",
      "chisquare-score is: 1073.1606670984763  and p value is: 0.4243377400157434\n",
      "Failed to reject the null hypothesis.\n"
     ]
    }
   ],
   "source": [
    "print(\"Approach 1: The p-value approach to hypothesis testing in the decision rule\")\n",
    "p_value = 1 - stats.chi2.cdf(chi_square, (len(rows)-1)*(len(columns)-1))\n",
    "conclusion = \"Failed to reject the null hypothesis.\"\n",
    "if p_value <= alpha:\n",
    "    conclusion = \"Null Hypothesis is rejected.\"\n",
    "        \n",
    "print(\"chisquare-score is:\", chi_square, \" and p value is:\", p_value)\n",
    "print(conclusion)"
   ]
  },
  {
   "cell_type": "markdown",
   "id": "9f52bbb2",
   "metadata": {},
   "source": [
    "Now for gender and egg"
   ]
  },
  {
   "cell_type": "code",
   "execution_count": 60,
   "id": "d5e097bd",
   "metadata": {},
   "outputs": [],
   "source": [
    "allergy_crosstab = pd.crosstab(allergy['GENDERFACTOR'],\n",
    "                            allergy['EGGALGSTART'],\n",
    "                           margins=True, margins_name=\"Total\")"
   ]
  },
  {
   "cell_type": "code",
   "execution_count": 61,
   "id": "c7731c74",
   "metadata": {},
   "outputs": [],
   "source": [
    "alpha = 0.05"
   ]
  },
  {
   "cell_type": "code",
   "execution_count": 62,
   "id": "9bba372f",
   "metadata": {},
   "outputs": [],
   "source": [
    "chi_square = 0\n",
    "rows = allergy['GENDERFACTOR'].unique()\n",
    "columns = allergy['EGGALGSTART'].unique()\n",
    "for i in columns:\n",
    "    for j in rows:\n",
    "        O = allergy_crosstab[i][j]\n",
    "        E = allergy_crosstab[i]['Total'] * allergy_crosstab['Total'][j] / allergy_crosstab['Total']['Total']\n",
    "        chi_square += (O-E)**2/E"
   ]
  },
  {
   "cell_type": "code",
   "execution_count": 63,
   "id": "a59f3268",
   "metadata": {},
   "outputs": [
    {
     "name": "stdout",
     "output_type": "stream",
     "text": [
      "Approach 1: The p-value approach to hypothesis testing in the decision rule\n",
      "chisquare-score is: 1717.6525617133593  and p value is: 0.007593310712122547\n",
      "Null Hypothesis is rejected.\n"
     ]
    }
   ],
   "source": [
    "print(\"Approach 1: The p-value approach to hypothesis testing in the decision rule\")\n",
    "p_value = 1 - stats.chi2.cdf(chi_square, (len(rows)-1)*(len(columns)-1))\n",
    "conclusion = \"Failed to reject the null hypothesis.\"\n",
    "if p_value <= alpha:\n",
    "    conclusion = \"Null Hypothesis is rejected.\"\n",
    "        \n",
    "print(\"chisquare-score is:\", chi_square, \" and p value is:\", p_value)\n",
    "print(conclusion)"
   ]
  },
  {
   "cell_type": "markdown",
   "id": "7b452f07",
   "metadata": {},
   "source": [
    "now for gender and wheat"
   ]
  },
  {
   "cell_type": "code",
   "execution_count": 64,
   "id": "9ee04d07",
   "metadata": {},
   "outputs": [],
   "source": [
    "allergy_crosstab = pd.crosstab(allergy['GENDERFACTOR'],\n",
    "                            allergy['WHEATALGSTART'],\n",
    "                           margins=True, margins_name=\"Total\")"
   ]
  },
  {
   "cell_type": "code",
   "execution_count": 65,
   "id": "c8ed7aef",
   "metadata": {},
   "outputs": [],
   "source": [
    "alpha = 0.05"
   ]
  },
  {
   "cell_type": "code",
   "execution_count": 66,
   "id": "9828c32e",
   "metadata": {},
   "outputs": [],
   "source": [
    "chi_square = 0\n",
    "rows = allergy['GENDERFACTOR'].unique()\n",
    "columns = allergy['WHEATALGSTART'].unique()\n",
    "for i in columns:\n",
    "    for j in rows:\n",
    "        O = allergy_crosstab[i][j]\n",
    "        E = allergy_crosstab[i]['Total'] * allergy_crosstab['Total'][j] / allergy_crosstab['Total']['Total']\n",
    "        chi_square += (O-E)**2/E"
   ]
  },
  {
   "cell_type": "code",
   "execution_count": 67,
   "id": "432afc33",
   "metadata": {},
   "outputs": [
    {
     "name": "stdout",
     "output_type": "stream",
     "text": [
      "Approach 1: The p-value approach to hypothesis testing in the decision rule\n",
      "chisquare-score is: 607.5247307509761  and p value is: 0.4520872933978165\n",
      "Failed to reject the null hypothesis.\n"
     ]
    }
   ],
   "source": [
    "print(\"Approach 1: The p-value approach to hypothesis testing in the decision rule\")\n",
    "p_value = 1 - stats.chi2.cdf(chi_square, (len(rows)-1)*(len(columns)-1))\n",
    "conclusion = \"Failed to reject the null hypothesis.\"\n",
    "if p_value <= alpha:\n",
    "    conclusion = \"Null Hypothesis is rejected.\"\n",
    "        \n",
    "print(\"chisquare-score is:\", chi_square, \" and p value is:\", p_value)\n",
    "print(conclusion)"
   ]
  },
  {
   "cell_type": "markdown",
   "id": "b453cba8",
   "metadata": {},
   "source": [
    "Now for gender and peanut"
   ]
  },
  {
   "cell_type": "code",
   "execution_count": 68,
   "id": "ce471d63",
   "metadata": {},
   "outputs": [],
   "source": [
    "allergy_crosstab = pd.crosstab(allergy['GENDERFACTOR'],\n",
    "                            allergy['PEANUTALGSTART'],\n",
    "                           margins=True, margins_name=\"Total\")"
   ]
  },
  {
   "cell_type": "code",
   "execution_count": 69,
   "id": "f82095aa",
   "metadata": {},
   "outputs": [],
   "source": [
    "alpha = 0.05"
   ]
  },
  {
   "cell_type": "code",
   "execution_count": 70,
   "id": "61c2601c",
   "metadata": {},
   "outputs": [],
   "source": [
    "chi_square = 0\n",
    "rows = allergy['GENDERFACTOR'].unique()\n",
    "columns = allergy['PEANUTALGSTART'].unique()\n",
    "for i in columns:\n",
    "    for j in rows:\n",
    "        O = allergy_crosstab[i][j]\n",
    "        E = allergy_crosstab[i]['Total'] * allergy_crosstab['Total'][j] / allergy_crosstab['Total']['Total']\n",
    "        chi_square += (O-E)**2/E"
   ]
  },
  {
   "cell_type": "code",
   "execution_count": 71,
   "id": "ed23de3f",
   "metadata": {},
   "outputs": [
    {
     "name": "stdout",
     "output_type": "stream",
     "text": [
      "Approach 1: The p-value approach to hypothesis testing in the decision rule\n",
      "chisquare-score is: 2180.940688777637  and p value is: 0.03152325402337475\n",
      "Null Hypothesis is rejected.\n"
     ]
    }
   ],
   "source": [
    "print(\"Approach 1: The p-value approach to hypothesis testing in the decision rule\")\n",
    "p_value = 1 - stats.chi2.cdf(chi_square, (len(rows)-1)*(len(columns)-1))\n",
    "conclusion = \"Failed to reject the null hypothesis.\"\n",
    "if p_value <= alpha:\n",
    "    conclusion = \"Null Hypothesis is rejected.\"\n",
    "        \n",
    "print(\"chisquare-score is:\", chi_square, \" and p value is:\", p_value)\n",
    "print(conclusion)"
   ]
  },
  {
   "cell_type": "markdown",
   "id": "c4dab817",
   "metadata": {},
   "source": [
    "now for gender and sesame"
   ]
  },
  {
   "cell_type": "code",
   "execution_count": 72,
   "id": "7423ae6c",
   "metadata": {},
   "outputs": [],
   "source": [
    "allergy_crosstab = pd.crosstab(allergy['GENDERFACTOR'],\n",
    "                            allergy['SESAMEALGSTART'],\n",
    "                           margins=True, margins_name=\"Total\")"
   ]
  },
  {
   "cell_type": "code",
   "execution_count": 73,
   "id": "baaad6a1",
   "metadata": {},
   "outputs": [],
   "source": [
    "alpha = 0.05"
   ]
  },
  {
   "cell_type": "code",
   "execution_count": 74,
   "id": "e804a623",
   "metadata": {},
   "outputs": [],
   "source": [
    "chi_square = 0\n",
    "rows = allergy['GENDERFACTOR'].unique()\n",
    "columns = allergy['SESAMEALGSTART'].unique()\n",
    "for i in columns:\n",
    "    for j in rows:\n",
    "        O = allergy_crosstab[i][j]\n",
    "        E = allergy_crosstab[i]['Total'] * allergy_crosstab['Total'][j] / allergy_crosstab['Total']['Total']\n",
    "        chi_square += (O-E)**2/E"
   ]
  },
  {
   "cell_type": "code",
   "execution_count": 75,
   "id": "54ebc5ce",
   "metadata": {},
   "outputs": [
    {
     "name": "stdout",
     "output_type": "stream",
     "text": [
      "Approach 1: The p-value approach to hypothesis testing in the decision rule\n",
      "chisquare-score is: 474.9064413123615  and p value is: 0.5055277704773649\n",
      "Failed to reject the null hypothesis.\n"
     ]
    }
   ],
   "source": [
    "print(\"Approach 1: The p-value approach to hypothesis testing in the decision rule\")\n",
    "p_value = 1 - stats.chi2.cdf(chi_square, (len(rows)-1)*(len(columns)-1))\n",
    "conclusion = \"Failed to reject the null hypothesis.\"\n",
    "if p_value <= alpha:\n",
    "    conclusion = \"Null Hypothesis is rejected.\"\n",
    "        \n",
    "print(\"chisquare-score is:\", chi_square, \" and p value is:\", p_value)\n",
    "print(conclusion)"
   ]
  },
  {
   "cell_type": "markdown",
   "id": "ffd39690",
   "metadata": {},
   "source": [
    "Now for ethnicity factor and shellfish."
   ]
  },
  {
   "cell_type": "code",
   "execution_count": 84,
   "id": "f5582ed2",
   "metadata": {},
   "outputs": [],
   "source": [
    "allergy_crosstab = pd.crosstab(allergy['ETHNICITYFACTOR'],\n",
    "                            allergy['SHELLFISHALGSTART'],\n",
    "                           margins=True, margins_name=\"Total\")"
   ]
  },
  {
   "cell_type": "code",
   "execution_count": 85,
   "id": "0b086b13",
   "metadata": {},
   "outputs": [],
   "source": [
    "alpha = 0.05"
   ]
  },
  {
   "cell_type": "code",
   "execution_count": 86,
   "id": "fcbe2547",
   "metadata": {},
   "outputs": [],
   "source": [
    "chi_square = 0\n",
    "rows = allergy['ETHNICITYFACTOR'].unique()\n",
    "columns = allergy['SHELLFISHALGSTART'].unique()\n",
    "for i in columns:\n",
    "    for j in rows:\n",
    "        O = allergy_crosstab[i][j]\n",
    "        E = allergy_crosstab[i]['Total'] * allergy_crosstab['Total'][j] / allergy_crosstab['Total']['Total']\n",
    "        chi_square += (O-E)**2/E"
   ]
  },
  {
   "cell_type": "code",
   "execution_count": 87,
   "id": "94123b5a",
   "metadata": {},
   "outputs": [
    {
     "name": "stdout",
     "output_type": "stream",
     "text": [
      "Approach 1: The p-value approach to hypothesis testing in the decision rule\n",
      "chisquare-score is: 1057.2389649542013  and p value is: 1.0\n",
      "Failed to reject the null hypothesis.\n"
     ]
    }
   ],
   "source": [
    "print(\"Approach 1: The p-value approach to hypothesis testing in the decision rule\")\n",
    "p_value = 1 - stats.chi2.cdf(chi_square, (len(rows)-1)*(len(columns)-1))\n",
    "conclusion = \"Failed to reject the null hypothesis.\"\n",
    "if p_value <= alpha:\n",
    "    conclusion = \"Null Hypothesis is rejected.\"\n",
    "        \n",
    "print(\"chisquare-score is:\", chi_square, \" and p value is:\", p_value)\n",
    "print(conclusion)"
   ]
  },
  {
   "cell_type": "markdown",
   "id": "668a8136",
   "metadata": {},
   "source": [
    "now for ethnicity and fish."
   ]
  },
  {
   "cell_type": "code",
   "execution_count": 88,
   "id": "8aad27c0",
   "metadata": {},
   "outputs": [],
   "source": [
    "allergy_crosstab = pd.crosstab(allergy['ETHNICITYFACTOR'],\n",
    "                            allergy['FISHALGSTART'],\n",
    "                           margins=True, margins_name=\"Total\")"
   ]
  },
  {
   "cell_type": "code",
   "execution_count": 89,
   "id": "f9135f20",
   "metadata": {},
   "outputs": [],
   "source": [
    "alpha = 0.05"
   ]
  },
  {
   "cell_type": "code",
   "execution_count": 90,
   "id": "8856a824",
   "metadata": {},
   "outputs": [],
   "source": [
    "chi_square = 0\n",
    "rows = allergy['ETHNICITYFACTOR'].unique()\n",
    "columns = allergy['FISHALGSTART'].unique()\n",
    "for i in columns:\n",
    "    for j in rows:\n",
    "        O = allergy_crosstab[i][j]\n",
    "        E = allergy_crosstab[i]['Total'] * allergy_crosstab['Total'][j] / allergy_crosstab['Total']['Total']\n",
    "        chi_square += (O-E)**2/E"
   ]
  },
  {
   "cell_type": "code",
   "execution_count": 91,
   "id": "c748e4f4",
   "metadata": {},
   "outputs": [
    {
     "name": "stdout",
     "output_type": "stream",
     "text": [
      "Approach 1: The p-value approach to hypothesis testing in the decision rule\n",
      "chisquare-score is: 620.2703023094582  and p value is: 0.999999615952595\n",
      "Failed to reject the null hypothesis.\n"
     ]
    }
   ],
   "source": [
    "print(\"Approach 1: The p-value approach to hypothesis testing in the decision rule\")\n",
    "p_value = 1 - stats.chi2.cdf(chi_square, (len(rows)-1)*(len(columns)-1))\n",
    "conclusion = \"Failed to reject the null hypothesis.\"\n",
    "if p_value <= alpha:\n",
    "    conclusion = \"Null Hypothesis is rejected.\"\n",
    "        \n",
    "print(\"chisquare-score is:\", chi_square, \" and p value is:\", p_value)\n",
    "print(conclusion)"
   ]
  },
  {
   "cell_type": "markdown",
   "id": "ca747375",
   "metadata": {},
   "source": [
    "now for ethnicity and milk"
   ]
  },
  {
   "cell_type": "code",
   "execution_count": 92,
   "id": "077a49e7",
   "metadata": {},
   "outputs": [],
   "source": [
    "allergy_crosstab = pd.crosstab(allergy['ETHNICITYFACTOR'],\n",
    "                            allergy['MILKALGSTART'],\n",
    "                           margins=True, margins_name=\"Total\")"
   ]
  },
  {
   "cell_type": "code",
   "execution_count": 93,
   "id": "012f6477",
   "metadata": {},
   "outputs": [],
   "source": [
    "alpha = 0.05"
   ]
  },
  {
   "cell_type": "code",
   "execution_count": 94,
   "id": "85dcd159",
   "metadata": {},
   "outputs": [],
   "source": [
    "chi_square = 0\n",
    "rows = allergy['ETHNICITYFACTOR'].unique()\n",
    "columns = allergy['MILKALGSTART'].unique()\n",
    "for i in columns:\n",
    "    for j in rows:\n",
    "        O = allergy_crosstab[i][j]\n",
    "        E = allergy_crosstab[i]['Total'] * allergy_crosstab['Total'][j] / allergy_crosstab['Total']['Total']\n",
    "        chi_square += (O-E)**2/E"
   ]
  },
  {
   "cell_type": "code",
   "execution_count": 95,
   "id": "58ce3d40",
   "metadata": {},
   "outputs": [
    {
     "name": "stdout",
     "output_type": "stream",
     "text": [
      "Approach 1: The p-value approach to hypothesis testing in the decision rule\n",
      "chisquare-score is: 1236.1757638292397  and p value is: 1.0\n",
      "Failed to reject the null hypothesis.\n"
     ]
    }
   ],
   "source": [
    "print(\"Approach 1: The p-value approach to hypothesis testing in the decision rule\")\n",
    "p_value = 1 - stats.chi2.cdf(chi_square, (len(rows)-1)*(len(columns)-1))\n",
    "conclusion = \"Failed to reject the null hypothesis.\"\n",
    "if p_value <= alpha:\n",
    "    conclusion = \"Null Hypothesis is rejected.\"\n",
    "        \n",
    "print(\"chisquare-score is:\", chi_square, \" and p value is:\", p_value)\n",
    "print(conclusion)"
   ]
  },
  {
   "cell_type": "markdown",
   "id": "fea48eb9",
   "metadata": {},
   "source": [
    "ethnicity and soy:"
   ]
  },
  {
   "cell_type": "code",
   "execution_count": 96,
   "id": "c4780f33",
   "metadata": {},
   "outputs": [],
   "source": [
    "allergy_crosstab = pd.crosstab(allergy['ETHNICITYFACTOR'],\n",
    "                            allergy['SOYALGSTART'],\n",
    "                           margins=True, margins_name=\"Total\")"
   ]
  },
  {
   "cell_type": "code",
   "execution_count": 97,
   "id": "9878d23e",
   "metadata": {},
   "outputs": [],
   "source": [
    "alpha = 0.05"
   ]
  },
  {
   "cell_type": "code",
   "execution_count": 98,
   "id": "af123b47",
   "metadata": {},
   "outputs": [],
   "source": [
    "chi_square = 0\n",
    "rows = allergy['ETHNICITYFACTOR'].unique()\n",
    "columns = allergy['SOYALGSTART'].unique()\n",
    "for i in columns:\n",
    "    for j in rows:\n",
    "        O = allergy_crosstab[i][j]\n",
    "        E = allergy_crosstab[i]['Total'] * allergy_crosstab['Total'][j] / allergy_crosstab['Total']['Total']\n",
    "        chi_square += (O-E)**2/E"
   ]
  },
  {
   "cell_type": "code",
   "execution_count": 99,
   "id": "3ba1b715",
   "metadata": {},
   "outputs": [
    {
     "name": "stdout",
     "output_type": "stream",
     "text": [
      "Approach 1: The p-value approach to hypothesis testing in the decision rule\n",
      "chisquare-score is: 828.3087724640297  and p value is: 0.9999999858912975\n",
      "Failed to reject the null hypothesis.\n"
     ]
    }
   ],
   "source": [
    "print(\"Approach 1: The p-value approach to hypothesis testing in the decision rule\")\n",
    "p_value = 1 - stats.chi2.cdf(chi_square, (len(rows)-1)*(len(columns)-1))\n",
    "conclusion = \"Failed to reject the null hypothesis.\"\n",
    "if p_value <= alpha:\n",
    "    conclusion = \"Null Hypothesis is rejected.\"\n",
    "        \n",
    "print(\"chisquare-score is:\", chi_square, \" and p value is:\", p_value)\n",
    "print(conclusion)"
   ]
  },
  {
   "cell_type": "markdown",
   "id": "e8211418",
   "metadata": {},
   "source": [
    "ethnicity and egg:"
   ]
  },
  {
   "cell_type": "code",
   "execution_count": 100,
   "id": "f4c89b48",
   "metadata": {},
   "outputs": [],
   "source": [
    "allergy_crosstab = pd.crosstab(allergy['ETHNICITYFACTOR'],\n",
    "                            allergy['EGGALGSTART'],\n",
    "                           margins=True, margins_name=\"Total\")"
   ]
  },
  {
   "cell_type": "code",
   "execution_count": 101,
   "id": "969b61cb",
   "metadata": {},
   "outputs": [],
   "source": [
    "alpha = 0.05"
   ]
  },
  {
   "cell_type": "code",
   "execution_count": 102,
   "id": "cc1dfb7a",
   "metadata": {},
   "outputs": [],
   "source": [
    "chi_square = 0\n",
    "rows = allergy['ETHNICITYFACTOR'].unique()\n",
    "columns = allergy['EGGALGSTART'].unique()\n",
    "for i in columns:\n",
    "    for j in rows:\n",
    "        O = allergy_crosstab[i][j]\n",
    "        E = allergy_crosstab[i]['Total'] * allergy_crosstab['Total'][j] / allergy_crosstab['Total']['Total']\n",
    "        chi_square += (O-E)**2/E"
   ]
  },
  {
   "cell_type": "code",
   "execution_count": 103,
   "id": "83e31d76",
   "metadata": {},
   "outputs": [
    {
     "name": "stdout",
     "output_type": "stream",
     "text": [
      "Approach 1: The p-value approach to hypothesis testing in the decision rule\n",
      "chisquare-score is: 1251.269019621401  and p value is: 0.9999999998100432\n",
      "Failed to reject the null hypothesis.\n"
     ]
    }
   ],
   "source": [
    "print(\"Approach 1: The p-value approach to hypothesis testing in the decision rule\")\n",
    "p_value = 1 - stats.chi2.cdf(chi_square, (len(rows)-1)*(len(columns)-1))\n",
    "conclusion = \"Failed to reject the null hypothesis.\"\n",
    "if p_value <= alpha:\n",
    "    conclusion = \"Null Hypothesis is rejected.\"\n",
    "        \n",
    "print(\"chisquare-score is:\", chi_square, \" and p value is:\", p_value)\n",
    "print(conclusion)"
   ]
  },
  {
   "cell_type": "markdown",
   "id": "a38e9728",
   "metadata": {},
   "source": [
    "ethnicity and wheat:"
   ]
  },
  {
   "cell_type": "code",
   "execution_count": 104,
   "id": "1ac3522d",
   "metadata": {},
   "outputs": [],
   "source": [
    "allergy_crosstab = pd.crosstab(allergy['ETHNICITYFACTOR'],\n",
    "                            allergy['WHEATALGSTART'],\n",
    "                           margins=True, margins_name=\"Total\")"
   ]
  },
  {
   "cell_type": "code",
   "execution_count": 105,
   "id": "6fbf2e2b",
   "metadata": {},
   "outputs": [],
   "source": [
    "alpha = 0.05"
   ]
  },
  {
   "cell_type": "code",
   "execution_count": 106,
   "id": "bbef20f7",
   "metadata": {},
   "outputs": [],
   "source": [
    "chi_square = 0\n",
    "rows = allergy['ETHNICITYFACTOR'].unique()\n",
    "columns = allergy['WHEATALGSTART'].unique()\n",
    "for i in columns:\n",
    "    for j in rows:\n",
    "        O = allergy_crosstab[i][j]\n",
    "        E = allergy_crosstab[i]['Total'] * allergy_crosstab['Total'][j] / allergy_crosstab['Total']['Total']\n",
    "        chi_square += (O-E)**2/E"
   ]
  },
  {
   "cell_type": "code",
   "execution_count": 107,
   "id": "4db96bb2",
   "metadata": {},
   "outputs": [
    {
     "name": "stdout",
     "output_type": "stream",
     "text": [
      "Approach 1: The p-value approach to hypothesis testing in the decision rule\n",
      "chisquare-score is: 462.3965793967701  and p value is: 0.9999951818784015\n",
      "Failed to reject the null hypothesis.\n"
     ]
    }
   ],
   "source": [
    "print(\"Approach 1: The p-value approach to hypothesis testing in the decision rule\")\n",
    "p_value = 1 - stats.chi2.cdf(chi_square, (len(rows)-1)*(len(columns)-1))\n",
    "conclusion = \"Failed to reject the null hypothesis.\"\n",
    "if p_value <= alpha:\n",
    "    conclusion = \"Null Hypothesis is rejected.\"\n",
    "        \n",
    "print(\"chisquare-score is:\", chi_square, \" and p value is:\", p_value)\n",
    "print(conclusion)"
   ]
  },
  {
   "cell_type": "markdown",
   "id": "3a5e91d5",
   "metadata": {},
   "source": [
    "ethnicity and peanut:"
   ]
  },
  {
   "cell_type": "code",
   "execution_count": 108,
   "id": "2dd1d0d8",
   "metadata": {},
   "outputs": [],
   "source": [
    "allergy_crosstab = pd.crosstab(allergy['ETHNICITYFACTOR'],\n",
    "                            allergy['PEANUTALGSTART'],\n",
    "                           margins=True, margins_name=\"Total\")"
   ]
  },
  {
   "cell_type": "code",
   "execution_count": 109,
   "id": "81a40e88",
   "metadata": {},
   "outputs": [],
   "source": [
    "alpha = 0.05"
   ]
  },
  {
   "cell_type": "code",
   "execution_count": 110,
   "id": "1a34eba5",
   "metadata": {},
   "outputs": [],
   "source": [
    "chi_square = 0\n",
    "rows = allergy['ETHNICITYFACTOR'].unique()\n",
    "columns = allergy['PEANUTALGSTART'].unique()\n",
    "for i in columns:\n",
    "    for j in rows:\n",
    "        O = allergy_crosstab[i][j]\n",
    "        E = allergy_crosstab[i]['Total'] * allergy_crosstab['Total'][j] / allergy_crosstab['Total']['Total']\n",
    "        chi_square += (O-E)**2/E"
   ]
  },
  {
   "cell_type": "code",
   "execution_count": 111,
   "id": "059cc9eb",
   "metadata": {},
   "outputs": [
    {
     "name": "stdout",
     "output_type": "stream",
     "text": [
      "Approach 1: The p-value approach to hypothesis testing in the decision rule\n",
      "chisquare-score is: 1422.3068695686954  and p value is: 1.0\n",
      "Failed to reject the null hypothesis.\n"
     ]
    }
   ],
   "source": [
    "print(\"Approach 1: The p-value approach to hypothesis testing in the decision rule\")\n",
    "p_value = 1 - stats.chi2.cdf(chi_square, (len(rows)-1)*(len(columns)-1))\n",
    "conclusion = \"Failed to reject the null hypothesis.\"\n",
    "if p_value <= alpha:\n",
    "    conclusion = \"Null Hypothesis is rejected.\"\n",
    "        \n",
    "print(\"chisquare-score is:\", chi_square, \" and p value is:\", p_value)\n",
    "print(conclusion)"
   ]
  },
  {
   "cell_type": "markdown",
   "id": "7628f808",
   "metadata": {},
   "source": [
    "ethnicity and sesame:"
   ]
  },
  {
   "cell_type": "code",
   "execution_count": 112,
   "id": "f95ca0db",
   "metadata": {},
   "outputs": [],
   "source": [
    "allergy_crosstab = pd.crosstab(allergy['ETHNICITYFACTOR'],\n",
    "                            allergy['SESAMEALGSTART'],\n",
    "                           margins=True, margins_name=\"Total\")"
   ]
  },
  {
   "cell_type": "code",
   "execution_count": 113,
   "id": "c687a46c",
   "metadata": {},
   "outputs": [],
   "source": [
    "alpha = 0.05"
   ]
  },
  {
   "cell_type": "code",
   "execution_count": 114,
   "id": "b9d29396",
   "metadata": {},
   "outputs": [],
   "source": [
    "chi_square = 0\n",
    "rows = allergy['ETHNICITYFACTOR'].unique()\n",
    "columns = allergy['SESAMEALGSTART'].unique()\n",
    "for i in columns:\n",
    "    for j in rows:\n",
    "        O = allergy_crosstab[i][j]\n",
    "        E = allergy_crosstab[i]['Total'] * allergy_crosstab['Total'][j] / allergy_crosstab['Total']['Total']\n",
    "        chi_square += (O-E)**2/E"
   ]
  },
  {
   "cell_type": "code",
   "execution_count": 115,
   "id": "c1c044eb",
   "metadata": {},
   "outputs": [
    {
     "name": "stdout",
     "output_type": "stream",
     "text": [
      "Approach 1: The p-value approach to hypothesis testing in the decision rule\n",
      "chisquare-score is: 353.40978235927577  and p value is: 0.9999933414697108\n",
      "Failed to reject the null hypothesis.\n"
     ]
    }
   ],
   "source": [
    "print(\"Approach 1: The p-value approach to hypothesis testing in the decision rule\")\n",
    "p_value = 1 - stats.chi2.cdf(chi_square, (len(rows)-1)*(len(columns)-1))\n",
    "conclusion = \"Failed to reject the null hypothesis.\"\n",
    "if p_value <= alpha:\n",
    "    conclusion = \"Null Hypothesis is rejected.\"\n",
    "        \n",
    "print(\"chisquare-score is:\", chi_square, \" and p value is:\", p_value)\n",
    "print(conclusion)"
   ]
  },
  {
   "cell_type": "code",
   "execution_count": null,
   "id": "57d0ff55",
   "metadata": {},
   "outputs": [],
   "source": []
  }
 ],
 "metadata": {
  "kernelspec": {
   "display_name": "Python 3 (ipykernel)",
   "language": "python",
   "name": "python3"
  },
  "language_info": {
   "codemirror_mode": {
    "name": "ipython",
    "version": 3
   },
   "file_extension": ".py",
   "mimetype": "text/x-python",
   "name": "python",
   "nbconvert_exporter": "python",
   "pygments_lexer": "ipython3",
   "version": "3.11.0"
  }
 },
 "nbformat": 4,
 "nbformat_minor": 5
}
